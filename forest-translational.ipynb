{
 "cells": [
  {
   "cell_type": "code",
   "execution_count": 1,
   "id": "b209bc15",
   "metadata": {
    "execution": {
     "iopub.execute_input": "2025-05-02T08:05:02.190533Z",
     "iopub.status.busy": "2025-05-02T08:05:02.190116Z",
     "iopub.status.idle": "2025-05-02T08:05:07.266446Z",
     "shell.execute_reply": "2025-05-02T08:05:07.265257Z"
    },
    "papermill": {
     "duration": 5.083427,
     "end_time": "2025-05-02T08:05:07.268511",
     "exception": false,
     "start_time": "2025-05-02T08:05:02.185084",
     "status": "completed"
    },
    "tags": []
   },
   "outputs": [],
   "source": [
    "import pandas as pd\n",
    "import numpy as np\n",
    "import matplotlib.pyplot as plt\n",
    "%matplotlib inline\n",
    "from sklearn.preprocessing import StandardScaler\n",
    "from sklearn.model_selection import cross_val_score,StratifiedKFold\n",
    "from sklearn.feature_selection import RFE\n",
    "from sklearn.model_selection import GridSearchCV\n",
    "from sklearn.svm import LinearSVC\n",
    "from collections import Counter\n",
    "from sklearn.metrics import accuracy_score, roc_curve, auc,confusion_matrix,ConfusionMatrixDisplay,f1_score,recall_score,precision_score\n",
    "import pickle\n",
    "from sklearn.pipeline import Pipeline\n",
    "from sklearn.ensemble import RandomForestClassifier\n",
    "from skopt import BayesSearchCV\n",
    "from skopt.callbacks import DeltaYStopper\n"
   ]
  },
  {
   "cell_type": "code",
   "execution_count": null,
   "id": "ebfa3a29",
   "metadata": {
    "execution": {
     "iopub.execute_input": "2025-05-01T18:24:50.870635Z",
     "iopub.status.busy": "2025-05-01T18:24:50.870284Z",
     "iopub.status.idle": "2025-05-01T18:24:50.877589Z",
     "shell.execute_reply": "2025-05-01T18:24:50.876398Z",
     "shell.execute_reply.started": "2025-05-01T18:24:50.870613Z"
    },
    "papermill": {
     "duration": 0.003284,
     "end_time": "2025-05-02T08:05:07.275854",
     "exception": false,
     "start_time": "2025-05-02T08:05:07.272570",
     "status": "completed"
    },
    "tags": []
   },
   "outputs": [],
   "source": []
  },
  {
   "cell_type": "code",
   "execution_count": 2,
   "id": "b42c7216",
   "metadata": {
    "execution": {
     "iopub.execute_input": "2025-05-02T08:05:07.284257Z",
     "iopub.status.busy": "2025-05-02T08:05:07.283780Z",
     "iopub.status.idle": "2025-05-02T08:05:07.483106Z",
     "shell.execute_reply": "2025-05-02T08:05:07.481934Z"
    },
    "papermill": {
     "duration": 0.205998,
     "end_time": "2025-05-02T08:05:07.485118",
     "exception": false,
     "start_time": "2025-05-02T08:05:07.279120",
     "status": "completed"
    },
    "tags": []
   },
   "outputs": [],
   "source": [
    "data = pd.read_csv(\"/kaggle/input/cats-project/CATS_data.csv\",index_col= None)"
   ]
  },
  {
   "cell_type": "code",
   "execution_count": 3,
   "id": "37157559",
   "metadata": {
    "execution": {
     "iopub.execute_input": "2025-05-02T08:05:07.493678Z",
     "iopub.status.busy": "2025-05-02T08:05:07.493343Z",
     "iopub.status.idle": "2025-05-02T08:05:07.536273Z",
     "shell.execute_reply": "2025-05-02T08:05:07.535097Z"
    },
    "papermill": {
     "duration": 0.049511,
     "end_time": "2025-05-02T08:05:07.538622",
     "exception": false,
     "start_time": "2025-05-02T08:05:07.489111",
     "status": "completed"
    },
    "tags": []
   },
   "outputs": [
    {
     "data": {
      "text/html": [
       "<div>\n",
       "<style scoped>\n",
       "    .dataframe tbody tr th:only-of-type {\n",
       "        vertical-align: middle;\n",
       "    }\n",
       "\n",
       "    .dataframe tbody tr th {\n",
       "        vertical-align: top;\n",
       "    }\n",
       "\n",
       "    .dataframe thead th {\n",
       "        text-align: right;\n",
       "    }\n",
       "</style>\n",
       "<table border=\"1\" class=\"dataframe\">\n",
       "  <thead>\n",
       "    <tr style=\"text-align: right;\">\n",
       "      <th></th>\n",
       "      <th>Subgroup</th>\n",
       "      <th>1</th>\n",
       "      <th>2</th>\n",
       "      <th>3</th>\n",
       "      <th>4</th>\n",
       "      <th>5</th>\n",
       "      <th>6</th>\n",
       "      <th>7</th>\n",
       "      <th>8</th>\n",
       "      <th>9</th>\n",
       "      <th>...</th>\n",
       "      <th>2825</th>\n",
       "      <th>2826</th>\n",
       "      <th>2827</th>\n",
       "      <th>2828</th>\n",
       "      <th>2829</th>\n",
       "      <th>2830</th>\n",
       "      <th>2831</th>\n",
       "      <th>2832</th>\n",
       "      <th>2833</th>\n",
       "      <th>2834</th>\n",
       "    </tr>\n",
       "  </thead>\n",
       "  <tbody>\n",
       "    <tr>\n",
       "      <th>0</th>\n",
       "      <td>HER2+</td>\n",
       "      <td>0</td>\n",
       "      <td>0</td>\n",
       "      <td>0</td>\n",
       "      <td>0</td>\n",
       "      <td>0</td>\n",
       "      <td>0</td>\n",
       "      <td>0</td>\n",
       "      <td>0</td>\n",
       "      <td>0</td>\n",
       "      <td>...</td>\n",
       "      <td>1</td>\n",
       "      <td>1</td>\n",
       "      <td>0</td>\n",
       "      <td>1</td>\n",
       "      <td>1</td>\n",
       "      <td>1</td>\n",
       "      <td>1</td>\n",
       "      <td>1</td>\n",
       "      <td>1</td>\n",
       "      <td>1</td>\n",
       "    </tr>\n",
       "    <tr>\n",
       "      <th>1</th>\n",
       "      <td>HR+</td>\n",
       "      <td>0</td>\n",
       "      <td>0</td>\n",
       "      <td>0</td>\n",
       "      <td>0</td>\n",
       "      <td>0</td>\n",
       "      <td>0</td>\n",
       "      <td>0</td>\n",
       "      <td>0</td>\n",
       "      <td>0</td>\n",
       "      <td>...</td>\n",
       "      <td>1</td>\n",
       "      <td>1</td>\n",
       "      <td>1</td>\n",
       "      <td>1</td>\n",
       "      <td>1</td>\n",
       "      <td>1</td>\n",
       "      <td>1</td>\n",
       "      <td>1</td>\n",
       "      <td>1</td>\n",
       "      <td>1</td>\n",
       "    </tr>\n",
       "    <tr>\n",
       "      <th>2</th>\n",
       "      <td>HR+</td>\n",
       "      <td>0</td>\n",
       "      <td>0</td>\n",
       "      <td>1</td>\n",
       "      <td>1</td>\n",
       "      <td>1</td>\n",
       "      <td>1</td>\n",
       "      <td>1</td>\n",
       "      <td>1</td>\n",
       "      <td>1</td>\n",
       "      <td>...</td>\n",
       "      <td>1</td>\n",
       "      <td>1</td>\n",
       "      <td>1</td>\n",
       "      <td>1</td>\n",
       "      <td>1</td>\n",
       "      <td>1</td>\n",
       "      <td>1</td>\n",
       "      <td>1</td>\n",
       "      <td>1</td>\n",
       "      <td>1</td>\n",
       "    </tr>\n",
       "    <tr>\n",
       "      <th>3</th>\n",
       "      <td>Triple Neg</td>\n",
       "      <td>0</td>\n",
       "      <td>0</td>\n",
       "      <td>0</td>\n",
       "      <td>0</td>\n",
       "      <td>-1</td>\n",
       "      <td>-1</td>\n",
       "      <td>-1</td>\n",
       "      <td>0</td>\n",
       "      <td>-1</td>\n",
       "      <td>...</td>\n",
       "      <td>1</td>\n",
       "      <td>1</td>\n",
       "      <td>1</td>\n",
       "      <td>1</td>\n",
       "      <td>1</td>\n",
       "      <td>1</td>\n",
       "      <td>1</td>\n",
       "      <td>1</td>\n",
       "      <td>1</td>\n",
       "      <td>1</td>\n",
       "    </tr>\n",
       "    <tr>\n",
       "      <th>4</th>\n",
       "      <td>Triple Neg</td>\n",
       "      <td>0</td>\n",
       "      <td>0</td>\n",
       "      <td>0</td>\n",
       "      <td>0</td>\n",
       "      <td>0</td>\n",
       "      <td>0</td>\n",
       "      <td>0</td>\n",
       "      <td>0</td>\n",
       "      <td>0</td>\n",
       "      <td>...</td>\n",
       "      <td>1</td>\n",
       "      <td>1</td>\n",
       "      <td>1</td>\n",
       "      <td>1</td>\n",
       "      <td>1</td>\n",
       "      <td>1</td>\n",
       "      <td>1</td>\n",
       "      <td>1</td>\n",
       "      <td>1</td>\n",
       "      <td>1</td>\n",
       "    </tr>\n",
       "    <tr>\n",
       "      <th>...</th>\n",
       "      <td>...</td>\n",
       "      <td>...</td>\n",
       "      <td>...</td>\n",
       "      <td>...</td>\n",
       "      <td>...</td>\n",
       "      <td>...</td>\n",
       "      <td>...</td>\n",
       "      <td>...</td>\n",
       "      <td>...</td>\n",
       "      <td>...</td>\n",
       "      <td>...</td>\n",
       "      <td>...</td>\n",
       "      <td>...</td>\n",
       "      <td>...</td>\n",
       "      <td>...</td>\n",
       "      <td>...</td>\n",
       "      <td>...</td>\n",
       "      <td>...</td>\n",
       "      <td>...</td>\n",
       "      <td>...</td>\n",
       "      <td>...</td>\n",
       "    </tr>\n",
       "    <tr>\n",
       "      <th>95</th>\n",
       "      <td>Triple Neg</td>\n",
       "      <td>0</td>\n",
       "      <td>0</td>\n",
       "      <td>1</td>\n",
       "      <td>1</td>\n",
       "      <td>1</td>\n",
       "      <td>1</td>\n",
       "      <td>1</td>\n",
       "      <td>1</td>\n",
       "      <td>0</td>\n",
       "      <td>...</td>\n",
       "      <td>1</td>\n",
       "      <td>1</td>\n",
       "      <td>1</td>\n",
       "      <td>1</td>\n",
       "      <td>1</td>\n",
       "      <td>1</td>\n",
       "      <td>1</td>\n",
       "      <td>1</td>\n",
       "      <td>1</td>\n",
       "      <td>1</td>\n",
       "    </tr>\n",
       "    <tr>\n",
       "      <th>96</th>\n",
       "      <td>HR+</td>\n",
       "      <td>0</td>\n",
       "      <td>0</td>\n",
       "      <td>0</td>\n",
       "      <td>0</td>\n",
       "      <td>0</td>\n",
       "      <td>0</td>\n",
       "      <td>0</td>\n",
       "      <td>0</td>\n",
       "      <td>0</td>\n",
       "      <td>...</td>\n",
       "      <td>1</td>\n",
       "      <td>1</td>\n",
       "      <td>1</td>\n",
       "      <td>1</td>\n",
       "      <td>1</td>\n",
       "      <td>1</td>\n",
       "      <td>1</td>\n",
       "      <td>1</td>\n",
       "      <td>1</td>\n",
       "      <td>1</td>\n",
       "    </tr>\n",
       "    <tr>\n",
       "      <th>97</th>\n",
       "      <td>HR+</td>\n",
       "      <td>1</td>\n",
       "      <td>0</td>\n",
       "      <td>0</td>\n",
       "      <td>0</td>\n",
       "      <td>0</td>\n",
       "      <td>0</td>\n",
       "      <td>0</td>\n",
       "      <td>0</td>\n",
       "      <td>0</td>\n",
       "      <td>...</td>\n",
       "      <td>1</td>\n",
       "      <td>1</td>\n",
       "      <td>1</td>\n",
       "      <td>1</td>\n",
       "      <td>1</td>\n",
       "      <td>1</td>\n",
       "      <td>1</td>\n",
       "      <td>1</td>\n",
       "      <td>1</td>\n",
       "      <td>1</td>\n",
       "    </tr>\n",
       "    <tr>\n",
       "      <th>98</th>\n",
       "      <td>HR+</td>\n",
       "      <td>0</td>\n",
       "      <td>0</td>\n",
       "      <td>0</td>\n",
       "      <td>0</td>\n",
       "      <td>0</td>\n",
       "      <td>0</td>\n",
       "      <td>0</td>\n",
       "      <td>0</td>\n",
       "      <td>0</td>\n",
       "      <td>...</td>\n",
       "      <td>1</td>\n",
       "      <td>1</td>\n",
       "      <td>1</td>\n",
       "      <td>1</td>\n",
       "      <td>1</td>\n",
       "      <td>1</td>\n",
       "      <td>1</td>\n",
       "      <td>1</td>\n",
       "      <td>1</td>\n",
       "      <td>1</td>\n",
       "    </tr>\n",
       "    <tr>\n",
       "      <th>99</th>\n",
       "      <td>Triple Neg</td>\n",
       "      <td>-1</td>\n",
       "      <td>-1</td>\n",
       "      <td>0</td>\n",
       "      <td>0</td>\n",
       "      <td>0</td>\n",
       "      <td>0</td>\n",
       "      <td>0</td>\n",
       "      <td>0</td>\n",
       "      <td>0</td>\n",
       "      <td>...</td>\n",
       "      <td>2</td>\n",
       "      <td>2</td>\n",
       "      <td>2</td>\n",
       "      <td>2</td>\n",
       "      <td>2</td>\n",
       "      <td>2</td>\n",
       "      <td>2</td>\n",
       "      <td>2</td>\n",
       "      <td>2</td>\n",
       "      <td>2</td>\n",
       "    </tr>\n",
       "  </tbody>\n",
       "</table>\n",
       "<p>100 rows × 2835 columns</p>\n",
       "</div>"
      ],
      "text/plain": [
       "      Subgroup  1  2  3  4  5  6  7  8  9  ...  2825  2826  2827  2828  2829  \\\n",
       "0        HER2+  0  0  0  0  0  0  0  0  0  ...     1     1     0     1     1   \n",
       "1          HR+  0  0  0  0  0  0  0  0  0  ...     1     1     1     1     1   \n",
       "2          HR+  0  0  1  1  1  1  1  1  1  ...     1     1     1     1     1   \n",
       "3   Triple Neg  0  0  0  0 -1 -1 -1  0 -1  ...     1     1     1     1     1   \n",
       "4   Triple Neg  0  0  0  0  0  0  0  0  0  ...     1     1     1     1     1   \n",
       "..         ... .. .. .. .. .. .. .. .. ..  ...   ...   ...   ...   ...   ...   \n",
       "95  Triple Neg  0  0  1  1  1  1  1  1  0  ...     1     1     1     1     1   \n",
       "96         HR+  0  0  0  0  0  0  0  0  0  ...     1     1     1     1     1   \n",
       "97         HR+  1  0  0  0  0  0  0  0  0  ...     1     1     1     1     1   \n",
       "98         HR+  0  0  0  0  0  0  0  0  0  ...     1     1     1     1     1   \n",
       "99  Triple Neg -1 -1  0  0  0  0  0  0  0  ...     2     2     2     2     2   \n",
       "\n",
       "    2830  2831  2832  2833  2834  \n",
       "0      1     1     1     1     1  \n",
       "1      1     1     1     1     1  \n",
       "2      1     1     1     1     1  \n",
       "3      1     1     1     1     1  \n",
       "4      1     1     1     1     1  \n",
       "..   ...   ...   ...   ...   ...  \n",
       "95     1     1     1     1     1  \n",
       "96     1     1     1     1     1  \n",
       "97     1     1     1     1     1  \n",
       "98     1     1     1     1     1  \n",
       "99     2     2     2     2     2  \n",
       "\n",
       "[100 rows x 2835 columns]"
      ]
     },
     "execution_count": 3,
     "metadata": {},
     "output_type": "execute_result"
    }
   ],
   "source": [
    "data"
   ]
  },
  {
   "cell_type": "code",
   "execution_count": 4,
   "id": "8e9f5695",
   "metadata": {
    "execution": {
     "iopub.execute_input": "2025-05-02T08:05:07.547026Z",
     "iopub.status.busy": "2025-05-02T08:05:07.546729Z",
     "iopub.status.idle": "2025-05-02T08:05:07.557276Z",
     "shell.execute_reply": "2025-05-02T08:05:07.556144Z"
    },
    "papermill": {
     "duration": 0.016624,
     "end_time": "2025-05-02T08:05:07.558945",
     "exception": false,
     "start_time": "2025-05-02T08:05:07.542321",
     "status": "completed"
    },
    "tags": []
   },
   "outputs": [],
   "source": [
    "y = data.Subgroup\n",
    "x = data.drop('Subgroup',axis=1)"
   ]
  },
  {
   "cell_type": "code",
   "execution_count": 5,
   "id": "a24b1616",
   "metadata": {
    "execution": {
     "iopub.execute_input": "2025-05-02T08:05:07.569028Z",
     "iopub.status.busy": "2025-05-02T08:05:07.568277Z",
     "iopub.status.idle": "2025-05-02T08:05:07.580192Z",
     "shell.execute_reply": "2025-05-02T08:05:07.579112Z"
    },
    "papermill": {
     "duration": 0.019344,
     "end_time": "2025-05-02T08:05:07.581883",
     "exception": false,
     "start_time": "2025-05-02T08:05:07.562539",
     "status": "completed"
    },
    "tags": []
   },
   "outputs": [
    {
     "data": {
      "text/plain": [
       "Subgroup\n",
       "HR+           36\n",
       "HER2+         32\n",
       "Triple Neg    32\n",
       "Name: count, dtype: int64"
      ]
     },
     "execution_count": 5,
     "metadata": {},
     "output_type": "execute_result"
    }
   ],
   "source": [
    "y.value_counts()"
   ]
  },
  {
   "cell_type": "code",
   "execution_count": 6,
   "id": "7caa93ed",
   "metadata": {
    "execution": {
     "iopub.execute_input": "2025-05-02T08:05:07.590998Z",
     "iopub.status.busy": "2025-05-02T08:05:07.590631Z",
     "iopub.status.idle": "2025-05-02T08:05:07.595466Z",
     "shell.execute_reply": "2025-05-02T08:05:07.594283Z"
    },
    "papermill": {
     "duration": 0.011588,
     "end_time": "2025-05-02T08:05:07.597461",
     "exception": false,
     "start_time": "2025-05-02T08:05:07.585873",
     "status": "completed"
    },
    "tags": []
   },
   "outputs": [],
   "source": [
    "clf= RandomForestClassifier()\n"
   ]
  },
  {
   "cell_type": "code",
   "execution_count": 7,
   "id": "0c6922bc",
   "metadata": {
    "execution": {
     "iopub.execute_input": "2025-05-02T08:05:07.606410Z",
     "iopub.status.busy": "2025-05-02T08:05:07.606108Z",
     "iopub.status.idle": "2025-05-02T08:05:07.611374Z",
     "shell.execute_reply": "2025-05-02T08:05:07.610160Z"
    },
    "papermill": {
     "duration": 0.01192,
     "end_time": "2025-05-02T08:05:07.613272",
     "exception": false,
     "start_time": "2025-05-02T08:05:07.601352",
     "status": "completed"
    },
    "tags": []
   },
   "outputs": [],
   "source": [
    "#define the pipeline, I used recursive feature elimination for feature selection. For different feature selection methods you can use 'SelectKBest' instead of RFE, check the documentation of sklearn for instruction\n",
    "#you can change the 'model' from LinearSVC to other sklearn models\n",
    "pipe = Pipeline(steps=[('feat_sel', RFE(estimator= RandomForestClassifier(),step=100)),\n",
    "                       ('model', RandomForestClassifier())])"
   ]
  },
  {
   "cell_type": "code",
   "execution_count": null,
   "id": "f7a7418a",
   "metadata": {
    "execution": {
     "iopub.execute_input": "2025-05-01T19:09:00.622014Z",
     "iopub.status.busy": "2025-05-01T19:09:00.621682Z",
     "iopub.status.idle": "2025-05-01T19:09:00.627871Z",
     "shell.execute_reply": "2025-05-01T19:09:00.626845Z",
     "shell.execute_reply.started": "2025-05-01T19:09:00.621987Z"
    },
    "papermill": {
     "duration": 0.00325,
     "end_time": "2025-05-02T08:05:07.620293",
     "exception": false,
     "start_time": "2025-05-02T08:05:07.617043",
     "status": "completed"
    },
    "tags": []
   },
   "outputs": [],
   "source": []
  },
  {
   "cell_type": "code",
   "execution_count": 8,
   "id": "f197acea",
   "metadata": {
    "execution": {
     "iopub.execute_input": "2025-05-02T08:05:07.628465Z",
     "iopub.status.busy": "2025-05-02T08:05:07.628153Z",
     "iopub.status.idle": "2025-05-02T08:05:07.634892Z",
     "shell.execute_reply": "2025-05-02T08:05:07.633825Z"
    },
    "papermill": {
     "duration": 0.012833,
     "end_time": "2025-05-02T08:05:07.636610",
     "exception": false,
     "start_time": "2025-05-02T08:05:07.623777",
     "status": "completed"
    },
    "tags": []
   },
   "outputs": [],
   "source": [
    "#Creating a Bayesian search class that stops after it converges (delta)\n",
    "class BayesSearchCVWithStopper(BayesSearchCV):\n",
    "    def __init__(self, estimator, search_spaces, cv, n_jobs, n_iter=50, delta=0.01, n_best=5):\n",
    "        # Fixing the n_iter default and handling argument passing\n",
    "        super().__init__(estimator=estimator, search_spaces=search_spaces, cv=cv, n_jobs=n_jobs, n_iter=n_iter)\n",
    "        self.delta = delta\n",
    "        self.n_best = n_best\n",
    "        \n",
    "\n",
    "        \n",
    "        \n",
    "    def fit(self, X, y=None, **fit_params):\n",
    "        return super().fit(X, y, callback=[DeltaYStopper(delta = self.delta,n_best = self.n_best)], **fit_params)"
   ]
  },
  {
   "cell_type": "code",
   "execution_count": 9,
   "id": "82767738",
   "metadata": {
    "execution": {
     "iopub.execute_input": "2025-05-02T08:05:07.644888Z",
     "iopub.status.busy": "2025-05-02T08:05:07.644621Z",
     "iopub.status.idle": "2025-05-02T17:06:18.831973Z",
     "shell.execute_reply": "2025-05-02T17:06:18.830679Z"
    },
    "papermill": {
     "duration": 32471.198136,
     "end_time": "2025-05-02T17:06:18.838327",
     "exception": false,
     "start_time": "2025-05-02T08:05:07.640191",
     "status": "completed"
    },
    "tags": []
   },
   "outputs": [
    {
     "name": "stderr",
     "output_type": "stream",
     "text": [
      "/usr/local/lib/python3.11/dist-packages/sklearn/utils/validation.py:605: DeprecationWarning: is_sparse is deprecated and will be removed in a future version. Check `isinstance(dtype, pd.SparseDtype)` instead.\n",
      "  if is_sparse(pd_dtype):\n"
     ]
    },
    {
     "name": "stdout",
     "output_type": "stream",
     "text": [
      "0.7103386809269162\n",
      "0.7287581699346405\n"
     ]
    },
    {
     "name": "stderr",
     "output_type": "stream",
     "text": [
      "/usr/local/lib/python3.11/dist-packages/sklearn/utils/validation.py:614: DeprecationWarning: is_sparse is deprecated and will be removed in a future version. Check `isinstance(dtype, pd.SparseDtype)` instead.\n",
      "  if is_sparse(pd_dtype) or not is_extension_array_dtype(pd_dtype):\n",
      "/usr/local/lib/python3.11/dist-packages/sklearn/utils/validation.py:605: DeprecationWarning: is_sparse is deprecated and will be removed in a future version. Check `isinstance(dtype, pd.SparseDtype)` instead.\n",
      "  if is_sparse(pd_dtype):\n",
      "/usr/local/lib/python3.11/dist-packages/sklearn/utils/validation.py:614: DeprecationWarning: is_sparse is deprecated and will be removed in a future version. Check `isinstance(dtype, pd.SparseDtype)` instead.\n",
      "  if is_sparse(pd_dtype) or not is_extension_array_dtype(pd_dtype):\n",
      "/usr/local/lib/python3.11/dist-packages/sklearn/utils/validation.py:605: DeprecationWarning: is_sparse is deprecated and will be removed in a future version. Check `isinstance(dtype, pd.SparseDtype)` instead.\n",
      "  if is_sparse(pd_dtype):\n",
      "/usr/local/lib/python3.11/dist-packages/sklearn/utils/validation.py:614: DeprecationWarning: is_sparse is deprecated and will be removed in a future version. Check `isinstance(dtype, pd.SparseDtype)` instead.\n",
      "  if is_sparse(pd_dtype) or not is_extension_array_dtype(pd_dtype):\n",
      "/usr/local/lib/python3.11/dist-packages/sklearn/utils/validation.py:605: DeprecationWarning: is_sparse is deprecated and will be removed in a future version. Check `isinstance(dtype, pd.SparseDtype)` instead.\n",
      "  if is_sparse(pd_dtype):\n",
      "/usr/local/lib/python3.11/dist-packages/sklearn/utils/validation.py:614: DeprecationWarning: is_sparse is deprecated and will be removed in a future version. Check `isinstance(dtype, pd.SparseDtype)` instead.\n",
      "  if is_sparse(pd_dtype) or not is_extension_array_dtype(pd_dtype):\n",
      "/usr/local/lib/python3.11/dist-packages/sklearn/utils/validation.py:605: DeprecationWarning: is_sparse is deprecated and will be removed in a future version. Check `isinstance(dtype, pd.SparseDtype)` instead.\n",
      "  if is_sparse(pd_dtype):\n",
      "/usr/local/lib/python3.11/dist-packages/sklearn/utils/validation.py:614: DeprecationWarning: is_sparse is deprecated and will be removed in a future version. Check `isinstance(dtype, pd.SparseDtype)` instead.\n",
      "  if is_sparse(pd_dtype) or not is_extension_array_dtype(pd_dtype):\n",
      "/usr/local/lib/python3.11/dist-packages/sklearn/utils/validation.py:605: DeprecationWarning: is_sparse is deprecated and will be removed in a future version. Check `isinstance(dtype, pd.SparseDtype)` instead.\n",
      "  if is_sparse(pd_dtype):\n",
      "/usr/local/lib/python3.11/dist-packages/sklearn/utils/validation.py:614: DeprecationWarning: is_sparse is deprecated and will be removed in a future version. Check `isinstance(dtype, pd.SparseDtype)` instead.\n",
      "  if is_sparse(pd_dtype) or not is_extension_array_dtype(pd_dtype):\n",
      "/usr/local/lib/python3.11/dist-packages/sklearn/utils/validation.py:605: DeprecationWarning: is_sparse is deprecated and will be removed in a future version. Check `isinstance(dtype, pd.SparseDtype)` instead.\n",
      "  if is_sparse(pd_dtype):\n",
      "/usr/local/lib/python3.11/dist-packages/sklearn/utils/validation.py:614: DeprecationWarning: is_sparse is deprecated and will be removed in a future version. Check `isinstance(dtype, pd.SparseDtype)` instead.\n",
      "  if is_sparse(pd_dtype) or not is_extension_array_dtype(pd_dtype):\n",
      "/usr/local/lib/python3.11/dist-packages/sklearn/utils/validation.py:605: DeprecationWarning: is_sparse is deprecated and will be removed in a future version. Check `isinstance(dtype, pd.SparseDtype)` instead.\n",
      "  if is_sparse(pd_dtype):\n",
      "/usr/local/lib/python3.11/dist-packages/sklearn/utils/validation.py:614: DeprecationWarning: is_sparse is deprecated and will be removed in a future version. Check `isinstance(dtype, pd.SparseDtype)` instead.\n",
      "  if is_sparse(pd_dtype) or not is_extension_array_dtype(pd_dtype):\n",
      "/usr/local/lib/python3.11/dist-packages/sklearn/utils/validation.py:605: DeprecationWarning: is_sparse is deprecated and will be removed in a future version. Check `isinstance(dtype, pd.SparseDtype)` instead.\n",
      "  if is_sparse(pd_dtype):\n",
      "/usr/local/lib/python3.11/dist-packages/sklearn/utils/validation.py:614: DeprecationWarning: is_sparse is deprecated and will be removed in a future version. Check `isinstance(dtype, pd.SparseDtype)` instead.\n",
      "  if is_sparse(pd_dtype) or not is_extension_array_dtype(pd_dtype):\n",
      "/usr/local/lib/python3.11/dist-packages/sklearn/utils/validation.py:605: DeprecationWarning: is_sparse is deprecated and will be removed in a future version. Check `isinstance(dtype, pd.SparseDtype)` instead.\n",
      "  if is_sparse(pd_dtype):\n",
      "/usr/local/lib/python3.11/dist-packages/sklearn/utils/validation.py:614: DeprecationWarning: is_sparse is deprecated and will be removed in a future version. Check `isinstance(dtype, pd.SparseDtype)` instead.\n",
      "  if is_sparse(pd_dtype) or not is_extension_array_dtype(pd_dtype):\n",
      "/usr/local/lib/python3.11/dist-packages/sklearn/utils/validation.py:605: DeprecationWarning: is_sparse is deprecated and will be removed in a future version. Check `isinstance(dtype, pd.SparseDtype)` instead.\n",
      "  if is_sparse(pd_dtype):\n",
      "/usr/local/lib/python3.11/dist-packages/sklearn/utils/validation.py:614: DeprecationWarning: is_sparse is deprecated and will be removed in a future version. Check `isinstance(dtype, pd.SparseDtype)` instead.\n",
      "  if is_sparse(pd_dtype) or not is_extension_array_dtype(pd_dtype):\n",
      "/usr/local/lib/python3.11/dist-packages/sklearn/utils/validation.py:605: DeprecationWarning: is_sparse is deprecated and will be removed in a future version. Check `isinstance(dtype, pd.SparseDtype)` instead.\n",
      "  if is_sparse(pd_dtype):\n",
      "/usr/local/lib/python3.11/dist-packages/sklearn/utils/validation.py:614: DeprecationWarning: is_sparse is deprecated and will be removed in a future version. Check `isinstance(dtype, pd.SparseDtype)` instead.\n",
      "  if is_sparse(pd_dtype) or not is_extension_array_dtype(pd_dtype):\n",
      "/usr/local/lib/python3.11/dist-packages/sklearn/utils/validation.py:605: DeprecationWarning: is_sparse is deprecated and will be removed in a future version. Check `isinstance(dtype, pd.SparseDtype)` instead.\n",
      "  if is_sparse(pd_dtype):\n",
      "/usr/local/lib/python3.11/dist-packages/sklearn/utils/validation.py:614: DeprecationWarning: is_sparse is deprecated and will be removed in a future version. Check `isinstance(dtype, pd.SparseDtype)` instead.\n",
      "  if is_sparse(pd_dtype) or not is_extension_array_dtype(pd_dtype):\n",
      "/usr/local/lib/python3.11/dist-packages/sklearn/utils/validation.py:605: DeprecationWarning: is_sparse is deprecated and will be removed in a future version. Check `isinstance(dtype, pd.SparseDtype)` instead.\n",
      "  if is_sparse(pd_dtype):\n",
      "/usr/local/lib/python3.11/dist-packages/sklearn/utils/validation.py:614: DeprecationWarning: is_sparse is deprecated and will be removed in a future version. Check `isinstance(dtype, pd.SparseDtype)` instead.\n",
      "  if is_sparse(pd_dtype) or not is_extension_array_dtype(pd_dtype):\n",
      "/usr/local/lib/python3.11/dist-packages/sklearn/utils/validation.py:605: DeprecationWarning: is_sparse is deprecated and will be removed in a future version. Check `isinstance(dtype, pd.SparseDtype)` instead.\n",
      "  if is_sparse(pd_dtype):\n",
      "/usr/local/lib/python3.11/dist-packages/sklearn/utils/validation.py:614: DeprecationWarning: is_sparse is deprecated and will be removed in a future version. Check `isinstance(dtype, pd.SparseDtype)` instead.\n",
      "  if is_sparse(pd_dtype) or not is_extension_array_dtype(pd_dtype):\n"
     ]
    },
    {
     "name": "stdout",
     "output_type": "stream",
     "text": [
      "0.7397504456327986\n",
      "0.7299465240641712\n"
     ]
    },
    {
     "name": "stderr",
     "output_type": "stream",
     "text": [
      "/usr/local/lib/python3.11/dist-packages/sklearn/utils/validation.py:605: DeprecationWarning: is_sparse is deprecated and will be removed in a future version. Check `isinstance(dtype, pd.SparseDtype)` instead.\n",
      "  if is_sparse(pd_dtype):\n",
      "/usr/local/lib/python3.11/dist-packages/sklearn/utils/validation.py:614: DeprecationWarning: is_sparse is deprecated and will be removed in a future version. Check `isinstance(dtype, pd.SparseDtype)` instead.\n",
      "  if is_sparse(pd_dtype) or not is_extension_array_dtype(pd_dtype):\n",
      "/usr/local/lib/python3.11/dist-packages/sklearn/utils/validation.py:605: DeprecationWarning: is_sparse is deprecated and will be removed in a future version. Check `isinstance(dtype, pd.SparseDtype)` instead.\n",
      "  if is_sparse(pd_dtype):\n",
      "/usr/local/lib/python3.11/dist-packages/sklearn/utils/validation.py:614: DeprecationWarning: is_sparse is deprecated and will be removed in a future version. Check `isinstance(dtype, pd.SparseDtype)` instead.\n",
      "  if is_sparse(pd_dtype) or not is_extension_array_dtype(pd_dtype):\n",
      "/usr/local/lib/python3.11/dist-packages/sklearn/utils/validation.py:605: DeprecationWarning: is_sparse is deprecated and will be removed in a future version. Check `isinstance(dtype, pd.SparseDtype)` instead.\n",
      "  if is_sparse(pd_dtype):\n",
      "/usr/local/lib/python3.11/dist-packages/sklearn/utils/validation.py:614: DeprecationWarning: is_sparse is deprecated and will be removed in a future version. Check `isinstance(dtype, pd.SparseDtype)` instead.\n",
      "  if is_sparse(pd_dtype) or not is_extension_array_dtype(pd_dtype):\n",
      "/usr/local/lib/python3.11/dist-packages/sklearn/utils/validation.py:605: DeprecationWarning: is_sparse is deprecated and will be removed in a future version. Check `isinstance(dtype, pd.SparseDtype)` instead.\n",
      "  if is_sparse(pd_dtype):\n",
      "/usr/local/lib/python3.11/dist-packages/sklearn/utils/validation.py:614: DeprecationWarning: is_sparse is deprecated and will be removed in a future version. Check `isinstance(dtype, pd.SparseDtype)` instead.\n",
      "  if is_sparse(pd_dtype) or not is_extension_array_dtype(pd_dtype):\n",
      "/usr/local/lib/python3.11/dist-packages/sklearn/utils/validation.py:605: DeprecationWarning: is_sparse is deprecated and will be removed in a future version. Check `isinstance(dtype, pd.SparseDtype)` instead.\n",
      "  if is_sparse(pd_dtype):\n",
      "/usr/local/lib/python3.11/dist-packages/sklearn/utils/validation.py:614: DeprecationWarning: is_sparse is deprecated and will be removed in a future version. Check `isinstance(dtype, pd.SparseDtype)` instead.\n",
      "  if is_sparse(pd_dtype) or not is_extension_array_dtype(pd_dtype):\n",
      "/usr/local/lib/python3.11/dist-packages/sklearn/utils/validation.py:605: DeprecationWarning: is_sparse is deprecated and will be removed in a future version. Check `isinstance(dtype, pd.SparseDtype)` instead.\n",
      "  if is_sparse(pd_dtype):\n",
      "/usr/local/lib/python3.11/dist-packages/sklearn/utils/validation.py:614: DeprecationWarning: is_sparse is deprecated and will be removed in a future version. Check `isinstance(dtype, pd.SparseDtype)` instead.\n",
      "  if is_sparse(pd_dtype) or not is_extension_array_dtype(pd_dtype):\n",
      "/usr/local/lib/python3.11/dist-packages/pandas/core/algorithms.py:1743: DeprecationWarning: is_sparse is deprecated and will be removed in a future version. Check `isinstance(dtype, pd.SparseDtype)` instead.\n",
      "  return lib.map_infer(values, mapper, convert=convert)\n"
     ]
    },
    {
     "name": "stdout",
     "output_type": "stream",
     "text": [
      "0.6491384432560903\n",
      "0.8291740938799762\n"
     ]
    },
    {
     "name": "stderr",
     "output_type": "stream",
     "text": [
      "/usr/local/lib/python3.11/dist-packages/sklearn/utils/validation.py:605: DeprecationWarning: is_sparse is deprecated and will be removed in a future version. Check `isinstance(dtype, pd.SparseDtype)` instead.\n",
      "  if is_sparse(pd_dtype):\n",
      "/usr/local/lib/python3.11/dist-packages/sklearn/utils/validation.py:614: DeprecationWarning: is_sparse is deprecated and will be removed in a future version. Check `isinstance(dtype, pd.SparseDtype)` instead.\n",
      "  if is_sparse(pd_dtype) or not is_extension_array_dtype(pd_dtype):\n",
      "/usr/local/lib/python3.11/dist-packages/sklearn/utils/validation.py:605: DeprecationWarning: is_sparse is deprecated and will be removed in a future version. Check `isinstance(dtype, pd.SparseDtype)` instead.\n",
      "  if is_sparse(pd_dtype):\n",
      "/usr/local/lib/python3.11/dist-packages/sklearn/utils/validation.py:614: DeprecationWarning: is_sparse is deprecated and will be removed in a future version. Check `isinstance(dtype, pd.SparseDtype)` instead.\n",
      "  if is_sparse(pd_dtype) or not is_extension_array_dtype(pd_dtype):\n",
      "/usr/local/lib/python3.11/dist-packages/sklearn/utils/validation.py:605: DeprecationWarning: is_sparse is deprecated and will be removed in a future version. Check `isinstance(dtype, pd.SparseDtype)` instead.\n",
      "  if is_sparse(pd_dtype):\n"
     ]
    },
    {
     "name": "stdout",
     "output_type": "stream",
     "text": [
      "0.7691622103386809\n",
      "0.7106357694592988\n",
      "0.7094474153297683\n"
     ]
    },
    {
     "name": "stderr",
     "output_type": "stream",
     "text": [
      "/usr/local/lib/python3.11/dist-packages/pandas/core/algorithms.py:1743: DeprecationWarning: is_sparse is deprecated and will be removed in a future version. Check `isinstance(dtype, pd.SparseDtype)` instead.\n",
      "  return lib.map_infer(values, mapper, convert=convert)\n"
     ]
    },
    {
     "name": "stdout",
     "output_type": "stream",
     "text": [
      "0.7115270350564469\n",
      "CPU times: user 1min 26s, sys: 46.8 s, total: 2min 13s\n",
      "Wall time: 9h 1min 11s\n"
     ]
    }
   ],
   "source": [
    "%%time\n",
    "#nested cv to estimate the test performance of our training pipeline, repeated 100 times, outer 3-fold cv, inner 5-fold cv\n",
    "test_score_nested = []\n",
    "N_TRIALS = 10\n",
    "param_grid = {\n",
    "    'feat_sel__n_features_to_select': [ 10, 20, 30, 40, 50,75],\n",
    "    'model__max_depth': list(range(5, 51)),\n",
    "    'model__criterion': ['gini'],\n",
    "    'model__min_samples_leaf': list(range(1, 73, 2)),\n",
    "    'model__max_features': ['sqrt', 'log2'],\n",
    "    'model__n_estimators': list(range(5, 100, 5))\n",
    "}\n",
    "for i in range(N_TRIALS):  \n",
    "    inner_cv = StratifiedKFold(5,shuffle=True, random_state=i)\n",
    "    outer_cv = StratifiedKFold(3,shuffle=True, random_state=i)\n",
    "    search = BayesSearchCV(estimator = pipe, search_spaces=param_grid,cv=inner_cv,n_jobs=-1, n_iter = 50)\n",
    "    test_score = cross_val_score(search, x, y, cv=outer_cv, n_jobs=-1)\n",
    "    test_score_nested.append(test_score.mean())\n",
    "    print(test_score.mean())"
   ]
  },
  {
   "cell_type": "code",
   "execution_count": 10,
   "id": "0659cd02",
   "metadata": {
    "execution": {
     "iopub.execute_input": "2025-05-02T17:06:18.849040Z",
     "iopub.status.busy": "2025-05-02T17:06:18.848646Z",
     "iopub.status.idle": "2025-05-02T17:06:18.856215Z",
     "shell.execute_reply": "2025-05-02T17:06:18.855218Z"
    },
    "papermill": {
     "duration": 0.014716,
     "end_time": "2025-05-02T17:06:18.857654",
     "exception": false,
     "start_time": "2025-05-02T17:06:18.842938",
     "status": "completed"
    },
    "tags": []
   },
   "outputs": [
    {
     "data": {
      "text/plain": [
       "[0.7103386809269162,\n",
       " 0.7287581699346405,\n",
       " 0.7397504456327986,\n",
       " 0.7299465240641712,\n",
       " 0.6491384432560903,\n",
       " 0.8291740938799762,\n",
       " 0.7691622103386809,\n",
       " 0.7106357694592988,\n",
       " 0.7094474153297683,\n",
       " 0.7115270350564469]"
      ]
     },
     "execution_count": 10,
     "metadata": {},
     "output_type": "execute_result"
    }
   ],
   "source": [
    "test_score_nested"
   ]
  },
  {
   "cell_type": "code",
   "execution_count": 11,
   "id": "d73ebb87",
   "metadata": {
    "execution": {
     "iopub.execute_input": "2025-05-02T17:06:18.869480Z",
     "iopub.status.busy": "2025-05-02T17:06:18.869150Z",
     "iopub.status.idle": "2025-05-02T17:06:18.874641Z",
     "shell.execute_reply": "2025-05-02T17:06:18.873513Z"
    },
    "papermill": {
     "duration": 0.01406,
     "end_time": "2025-05-02T17:06:18.876405",
     "exception": false,
     "start_time": "2025-05-02T17:06:18.862345",
     "status": "completed"
    },
    "tags": []
   },
   "outputs": [],
   "source": [
    "scores=pd.DataFrame(test_score_nested)"
   ]
  },
  {
   "cell_type": "code",
   "execution_count": 12,
   "id": "e00c64d8",
   "metadata": {
    "execution": {
     "iopub.execute_input": "2025-05-02T17:06:18.887068Z",
     "iopub.status.busy": "2025-05-02T17:06:18.886740Z",
     "iopub.status.idle": "2025-05-02T17:06:19.586983Z",
     "shell.execute_reply": "2025-05-02T17:06:19.585798Z"
    },
    "papermill": {
     "duration": 0.707638,
     "end_time": "2025-05-02T17:06:19.588684",
     "exception": false,
     "start_time": "2025-05-02T17:06:18.881046",
     "status": "completed"
    },
    "tags": []
   },
   "outputs": [
    {
     "data": {
      "text/plain": [
       "<Axes: >"
      ]
     },
     "execution_count": 12,
     "metadata": {},
     "output_type": "execute_result"
    },
    {
     "data": {
      "image/png": "[encoded data removed]",
      "text/plain": [
       "<Figure size 640x480 with 1 Axes>"
      ]
     },
     "metadata": {},
     "output_type": "display_data"
    }
   ],
   "source": [
    "scores.plot.box()\n"
   ]
  }
 ],
 "metadata": {
  "kaggle": {
   "accelerator": "none",
   "dataSources": [
    {
     "datasetId": 7055446,
     "sourceId": 11416227,
     "sourceType": "datasetVersion"
    }
   ],
   "dockerImageVersionId": 31012,
   "isGpuEnabled": false,
   "isInternetEnabled": true,
   "language": "python",
   "sourceType": "notebook"
  },
  "kernelspec": {
   "display_name": "Python 3",
   "language": "python",
   "name": "python3"
  },
  "language_info": {
   "codemirror_mode": {
    "name": "ipython",
    "version": 3
   },
   "file_extension": ".py",
   "mimetype": "text/x-python",
   "name": "python",
   "nbconvert_exporter": "python",
   "pygments_lexer": "ipython3",
   "version": "3.11.11"
  },
  "papermill": {
   "default_parameters": {},
   "duration": 32485.650924,
   "end_time": "2025-05-02T17:06:22.248001",
   "environment_variables": {},
   "exception": null,
   "input_path": "__notebook__.ipynb",
   "output_path": "__notebook__.ipynb",
   "parameters": {},
   "start_time": "2025-05-02T08:04:56.597077",
   "version": "2.6.0"
  }
 },
 "nbformat": 4,
 "nbformat_minor": 5
}
