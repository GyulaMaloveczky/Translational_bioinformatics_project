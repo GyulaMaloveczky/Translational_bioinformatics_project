{
 "cells": [
  {
   "cell_type": "code",
   "execution_count": 2,
   "id": "d290b3b2-4a90-43fe-82bf-8154bdc7ae5c",
   "metadata": {},
   "outputs": [],
   "source": [
    "import pandas as pd\n",
    "import numpy as np\n",
    "import matplotlib.pyplot as plt\n",
    "%matplotlib inline\n",
    "from sklearn.preprocessing import StandardScaler\n",
    "from sklearn.model_selection import cross_val_score,StratifiedKFold\n",
    "from sklearn.feature_selection import RFE\n",
    "from sklearn.model_selection import GridSearchCV\n",
    "from sklearn.svm import LinearSVC\n",
    "from collections import Counter\n",
    "from sklearn.metrics import accuracy_score, roc_curve, auc,confusion_matrix,ConfusionMatrixDisplay,f1_score,recall_score,precision_score\n",
    "import pickle\n",
    "from sklearn.pipeline import Pipeline\n"
   ]
  },
  {
   "cell_type": "code",
   "execution_count": 10,
   "id": "81470a6a-edc1-43da-b1c4-8b8af48e4ffc",
   "metadata": {},
   "outputs": [],
   "source": [
    "data = pd.read_csv(\"combo.csv\",index_col=0)"
   ]
  },
  {
   "cell_type": "code",
   "execution_count": 11,
   "id": "111c4e98-2f10-4d50-8bfb-087f787ab2e8",
   "metadata": {},
   "outputs": [
    {
     "data": {
      "text/html": [
       "<div>\n",
       "<style scoped>\n",
       "    .dataframe tbody tr th:only-of-type {\n",
       "        vertical-align: middle;\n",
       "    }\n",
       "\n",
       "    .dataframe tbody tr th {\n",
       "        vertical-align: top;\n",
       "    }\n",
       "\n",
       "    .dataframe thead th {\n",
       "        text-align: right;\n",
       "    }\n",
       "</style>\n",
       "<table border=\"1\" class=\"dataframe\">\n",
       "  <thead>\n",
       "    <tr style=\"text-align: right;\">\n",
       "      <th></th>\n",
       "      <th>Subgroup</th>\n",
       "      <th>1</th>\n",
       "      <th>2</th>\n",
       "      <th>3</th>\n",
       "      <th>4</th>\n",
       "      <th>5</th>\n",
       "      <th>6</th>\n",
       "      <th>7</th>\n",
       "      <th>8</th>\n",
       "      <th>9</th>\n",
       "      <th>...</th>\n",
       "      <th>2825</th>\n",
       "      <th>2826</th>\n",
       "      <th>2827</th>\n",
       "      <th>2828</th>\n",
       "      <th>2829</th>\n",
       "      <th>2830</th>\n",
       "      <th>2831</th>\n",
       "      <th>2832</th>\n",
       "      <th>2833</th>\n",
       "      <th>2834</th>\n",
       "    </tr>\n",
       "  </thead>\n",
       "  <tbody>\n",
       "    <tr>\n",
       "      <th>Array.10</th>\n",
       "      <td>HER2+</td>\n",
       "      <td>0</td>\n",
       "      <td>0</td>\n",
       "      <td>0</td>\n",
       "      <td>0</td>\n",
       "      <td>0</td>\n",
       "      <td>0</td>\n",
       "      <td>0</td>\n",
       "      <td>0</td>\n",
       "      <td>0</td>\n",
       "      <td>...</td>\n",
       "      <td>1</td>\n",
       "      <td>1</td>\n",
       "      <td>0</td>\n",
       "      <td>1</td>\n",
       "      <td>1</td>\n",
       "      <td>1</td>\n",
       "      <td>1</td>\n",
       "      <td>1</td>\n",
       "      <td>1</td>\n",
       "      <td>1</td>\n",
       "    </tr>\n",
       "    <tr>\n",
       "      <th>Array.100</th>\n",
       "      <td>HR+</td>\n",
       "      <td>0</td>\n",
       "      <td>0</td>\n",
       "      <td>0</td>\n",
       "      <td>0</td>\n",
       "      <td>0</td>\n",
       "      <td>0</td>\n",
       "      <td>0</td>\n",
       "      <td>0</td>\n",
       "      <td>0</td>\n",
       "      <td>...</td>\n",
       "      <td>1</td>\n",
       "      <td>1</td>\n",
       "      <td>1</td>\n",
       "      <td>1</td>\n",
       "      <td>1</td>\n",
       "      <td>1</td>\n",
       "      <td>1</td>\n",
       "      <td>1</td>\n",
       "      <td>1</td>\n",
       "      <td>1</td>\n",
       "    </tr>\n",
       "    <tr>\n",
       "      <th>Array.101</th>\n",
       "      <td>HR+</td>\n",
       "      <td>0</td>\n",
       "      <td>0</td>\n",
       "      <td>1</td>\n",
       "      <td>1</td>\n",
       "      <td>1</td>\n",
       "      <td>1</td>\n",
       "      <td>1</td>\n",
       "      <td>1</td>\n",
       "      <td>1</td>\n",
       "      <td>...</td>\n",
       "      <td>1</td>\n",
       "      <td>1</td>\n",
       "      <td>1</td>\n",
       "      <td>1</td>\n",
       "      <td>1</td>\n",
       "      <td>1</td>\n",
       "      <td>1</td>\n",
       "      <td>1</td>\n",
       "      <td>1</td>\n",
       "      <td>1</td>\n",
       "    </tr>\n",
       "    <tr>\n",
       "      <th>Array.102</th>\n",
       "      <td>Triple Neg</td>\n",
       "      <td>0</td>\n",
       "      <td>0</td>\n",
       "      <td>0</td>\n",
       "      <td>0</td>\n",
       "      <td>-1</td>\n",
       "      <td>-1</td>\n",
       "      <td>-1</td>\n",
       "      <td>0</td>\n",
       "      <td>-1</td>\n",
       "      <td>...</td>\n",
       "      <td>1</td>\n",
       "      <td>1</td>\n",
       "      <td>1</td>\n",
       "      <td>1</td>\n",
       "      <td>1</td>\n",
       "      <td>1</td>\n",
       "      <td>1</td>\n",
       "      <td>1</td>\n",
       "      <td>1</td>\n",
       "      <td>1</td>\n",
       "    </tr>\n",
       "    <tr>\n",
       "      <th>Array.104</th>\n",
       "      <td>Triple Neg</td>\n",
       "      <td>0</td>\n",
       "      <td>0</td>\n",
       "      <td>0</td>\n",
       "      <td>0</td>\n",
       "      <td>0</td>\n",
       "      <td>0</td>\n",
       "      <td>0</td>\n",
       "      <td>0</td>\n",
       "      <td>0</td>\n",
       "      <td>...</td>\n",
       "      <td>1</td>\n",
       "      <td>1</td>\n",
       "      <td>1</td>\n",
       "      <td>1</td>\n",
       "      <td>1</td>\n",
       "      <td>1</td>\n",
       "      <td>1</td>\n",
       "      <td>1</td>\n",
       "      <td>1</td>\n",
       "      <td>1</td>\n",
       "    </tr>\n",
       "    <tr>\n",
       "      <th>...</th>\n",
       "      <td>...</td>\n",
       "      <td>...</td>\n",
       "      <td>...</td>\n",
       "      <td>...</td>\n",
       "      <td>...</td>\n",
       "      <td>...</td>\n",
       "      <td>...</td>\n",
       "      <td>...</td>\n",
       "      <td>...</td>\n",
       "      <td>...</td>\n",
       "      <td>...</td>\n",
       "      <td>...</td>\n",
       "      <td>...</td>\n",
       "      <td>...</td>\n",
       "      <td>...</td>\n",
       "      <td>...</td>\n",
       "      <td>...</td>\n",
       "      <td>...</td>\n",
       "      <td>...</td>\n",
       "      <td>...</td>\n",
       "      <td>...</td>\n",
       "    </tr>\n",
       "    <tr>\n",
       "      <th>Array.93</th>\n",
       "      <td>Triple Neg</td>\n",
       "      <td>0</td>\n",
       "      <td>0</td>\n",
       "      <td>1</td>\n",
       "      <td>1</td>\n",
       "      <td>1</td>\n",
       "      <td>1</td>\n",
       "      <td>1</td>\n",
       "      <td>1</td>\n",
       "      <td>0</td>\n",
       "      <td>...</td>\n",
       "      <td>1</td>\n",
       "      <td>1</td>\n",
       "      <td>1</td>\n",
       "      <td>1</td>\n",
       "      <td>1</td>\n",
       "      <td>1</td>\n",
       "      <td>1</td>\n",
       "      <td>1</td>\n",
       "      <td>1</td>\n",
       "      <td>1</td>\n",
       "    </tr>\n",
       "    <tr>\n",
       "      <th>Array.94</th>\n",
       "      <td>HR+</td>\n",
       "      <td>0</td>\n",
       "      <td>0</td>\n",
       "      <td>0</td>\n",
       "      <td>0</td>\n",
       "      <td>0</td>\n",
       "      <td>0</td>\n",
       "      <td>0</td>\n",
       "      <td>0</td>\n",
       "      <td>0</td>\n",
       "      <td>...</td>\n",
       "      <td>1</td>\n",
       "      <td>1</td>\n",
       "      <td>1</td>\n",
       "      <td>1</td>\n",
       "      <td>1</td>\n",
       "      <td>1</td>\n",
       "      <td>1</td>\n",
       "      <td>1</td>\n",
       "      <td>1</td>\n",
       "      <td>1</td>\n",
       "    </tr>\n",
       "    <tr>\n",
       "      <th>Array.95</th>\n",
       "      <td>HR+</td>\n",
       "      <td>1</td>\n",
       "      <td>0</td>\n",
       "      <td>0</td>\n",
       "      <td>0</td>\n",
       "      <td>0</td>\n",
       "      <td>0</td>\n",
       "      <td>0</td>\n",
       "      <td>0</td>\n",
       "      <td>0</td>\n",
       "      <td>...</td>\n",
       "      <td>1</td>\n",
       "      <td>1</td>\n",
       "      <td>1</td>\n",
       "      <td>1</td>\n",
       "      <td>1</td>\n",
       "      <td>1</td>\n",
       "      <td>1</td>\n",
       "      <td>1</td>\n",
       "      <td>1</td>\n",
       "      <td>1</td>\n",
       "    </tr>\n",
       "    <tr>\n",
       "      <th>Array.98</th>\n",
       "      <td>HR+</td>\n",
       "      <td>0</td>\n",
       "      <td>0</td>\n",
       "      <td>0</td>\n",
       "      <td>0</td>\n",
       "      <td>0</td>\n",
       "      <td>0</td>\n",
       "      <td>0</td>\n",
       "      <td>0</td>\n",
       "      <td>0</td>\n",
       "      <td>...</td>\n",
       "      <td>1</td>\n",
       "      <td>1</td>\n",
       "      <td>1</td>\n",
       "      <td>1</td>\n",
       "      <td>1</td>\n",
       "      <td>1</td>\n",
       "      <td>1</td>\n",
       "      <td>1</td>\n",
       "      <td>1</td>\n",
       "      <td>1</td>\n",
       "    </tr>\n",
       "    <tr>\n",
       "      <th>Array.99</th>\n",
       "      <td>Triple Neg</td>\n",
       "      <td>-1</td>\n",
       "      <td>-1</td>\n",
       "      <td>0</td>\n",
       "      <td>0</td>\n",
       "      <td>0</td>\n",
       "      <td>0</td>\n",
       "      <td>0</td>\n",
       "      <td>0</td>\n",
       "      <td>0</td>\n",
       "      <td>...</td>\n",
       "      <td>2</td>\n",
       "      <td>2</td>\n",
       "      <td>2</td>\n",
       "      <td>2</td>\n",
       "      <td>2</td>\n",
       "      <td>2</td>\n",
       "      <td>2</td>\n",
       "      <td>2</td>\n",
       "      <td>2</td>\n",
       "      <td>2</td>\n",
       "    </tr>\n",
       "  </tbody>\n",
       "</table>\n",
       "<p>100 rows × 2835 columns</p>\n",
       "</div>"
      ],
      "text/plain": [
       "             Subgroup  1  2  3  4  5  6  7  8  9  ...  2825  2826  2827  2828  \\\n",
       "Array.10        HER2+  0  0  0  0  0  0  0  0  0  ...     1     1     0     1   \n",
       "Array.100         HR+  0  0  0  0  0  0  0  0  0  ...     1     1     1     1   \n",
       "Array.101         HR+  0  0  1  1  1  1  1  1  1  ...     1     1     1     1   \n",
       "Array.102  Triple Neg  0  0  0  0 -1 -1 -1  0 -1  ...     1     1     1     1   \n",
       "Array.104  Triple Neg  0  0  0  0  0  0  0  0  0  ...     1     1     1     1   \n",
       "...               ... .. .. .. .. .. .. .. .. ..  ...   ...   ...   ...   ...   \n",
       "Array.93   Triple Neg  0  0  1  1  1  1  1  1  0  ...     1     1     1     1   \n",
       "Array.94          HR+  0  0  0  0  0  0  0  0  0  ...     1     1     1     1   \n",
       "Array.95          HR+  1  0  0  0  0  0  0  0  0  ...     1     1     1     1   \n",
       "Array.98          HR+  0  0  0  0  0  0  0  0  0  ...     1     1     1     1   \n",
       "Array.99   Triple Neg -1 -1  0  0  0  0  0  0  0  ...     2     2     2     2   \n",
       "\n",
       "           2829  2830  2831  2832  2833  2834  \n",
       "Array.10      1     1     1     1     1     1  \n",
       "Array.100     1     1     1     1     1     1  \n",
       "Array.101     1     1     1     1     1     1  \n",
       "Array.102     1     1     1     1     1     1  \n",
       "Array.104     1     1     1     1     1     1  \n",
       "...         ...   ...   ...   ...   ...   ...  \n",
       "Array.93      1     1     1     1     1     1  \n",
       "Array.94      1     1     1     1     1     1  \n",
       "Array.95      1     1     1     1     1     1  \n",
       "Array.98      1     1     1     1     1     1  \n",
       "Array.99      2     2     2     2     2     2  \n",
       "\n",
       "[100 rows x 2835 columns]"
      ]
     },
     "execution_count": 11,
     "metadata": {},
     "output_type": "execute_result"
    }
   ],
   "source": [
    "data"
   ]
  },
  {
   "cell_type": "code",
   "execution_count": 12,
   "id": "89045bee-ec46-4885-8708-75a71dbd47ad",
   "metadata": {},
   "outputs": [],
   "source": [
    "y = data.Subgroup\n",
    "x = data.drop('Subgroup',axis=1)"
   ]
  },
  {
   "cell_type": "code",
   "execution_count": 6,
   "id": "f7b0c7e9-a5b0-4474-949a-844bfbfbe250",
   "metadata": {},
   "outputs": [],
   "source": [
    "clf=LinearSVC(random_state=0,dual='auto')"
   ]
  },
  {
   "cell_type": "code",
   "execution_count": 7,
   "id": "2d17e6d8-9a45-4c15-a13e-4c47dbf2941d",
   "metadata": {},
   "outputs": [],
   "source": [
    "#define the pipeline, I used recursive feature elimination for feature selection. For different feature selection methods you can use 'SelectKBest' instead of RFE, check the documentation of sklearn for instruction\n",
    "#you can change the 'model' from LinearSVC to other sklearn models\n",
    "pipe = Pipeline(steps=[('feat_sel', RFE(estimator=LinearSVC(random_state=0,dual='auto',C=0.01),step=100)),\n",
    "                       ('model', LinearSVC(random_state=0,dual='auto'))])"
   ]
  },
  {
   "cell_type": "code",
   "execution_count": 15,
   "id": "23bee08b-b707-4e91-ae17-fc9a961657c3",
   "metadata": {},
   "outputs": [],
   "source": [
    "from sklearn.feature_selection import f_classif, SelectKBest\n",
    "pipe = Pipeline(steps=[('feat_sel', SelectKBest(score_func=f_classif)),\n",
    "                       ('model', LinearSVC(random_state=0,dual='auto'))])"
   ]
  },
  {
   "cell_type": "code",
   "execution_count": 16,
   "id": "ce689f4d-c685-4dc5-8fb1-2d1522974939",
   "metadata": {},
   "outputs": [],
   "source": [
    "#nested cv to estimate the test performance of our training pipeline, repeated 100 times, outer 3-fold cv, inner 5-fold cv\n",
    "test_score_nested = []\n",
    "N_TRIALS = 100\n",
    "param_grid = {'feat_sel__k': [25,50,100],'model__C': [0.01, 0.05, 0.1]}\n",
    "for i in range(N_TRIALS):  \n",
    "    inner_cv = StratifiedKFold(5,shuffle=True, random_state=i)\n",
    "    outer_cv = StratifiedKFold(3,shuffle=True, random_state=i)\n",
    "    search = GridSearchCV(estimator=pipe, param_grid=param_grid,cv=inner_cv,n_jobs=-1)\n",
    "    test_score = cross_val_score(search, x, y, cv=outer_cv, n_jobs=-1)\n",
    "    test_score_nested.append(test_score.mean())"
   ]
  },
  {
   "cell_type": "code",
   "execution_count": 17,
   "id": "ad680948-7938-4d89-a588-180a3426ac7d",
   "metadata": {},
   "outputs": [
    {
     "data": {
      "text/plain": [
       "[0.7795603089720737,\n",
       " 0.7997623291740937,\n",
       " 0.7507427213309567,\n",
       " 0.7994652406417112,\n",
       " 0.7507427213309565,\n",
       " 0.7899584076054665,\n",
       " 0.8104575163398694,\n",
       " 0.8000594177064766,\n",
       " 0.8695781342840166,\n",
       " 0.7694592988710637,\n",
       " 0.8493761140819963,\n",
       " 0.8095662507427214,\n",
       " 0.690136660724896,\n",
       " 0.7501485442661915,\n",
       " 0.8401663695781343,\n",
       " 0.7682709447415329,\n",
       " 0.7501485442661914,\n",
       " 0.6898395721925134,\n",
       " 0.7599524658348189,\n",
       " 0.8306595365418895,\n",
       " 0.7712418300653595,\n",
       " 0.7902554961378491,\n",
       " 0.7492572786690435,\n",
       " 0.7495543672014261,\n",
       " 0.7314319667260843,\n",
       " 0.7795603089720737,\n",
       " 0.7501485442661914,\n",
       " 0.7305407011289363,\n",
       " 0.7201426024955436,\n",
       " 0.7896613190730838,\n",
       " 0.800653594771242,\n",
       " 0.8199643493761141,\n",
       " 0.7694592988710637,\n",
       " 0.7293523469994058,\n",
       " 0.7703505644682115,\n",
       " 0.800653594771242,\n",
       " 0.7097445038621509,\n",
       " 0.8202614379084968,\n",
       " 0.6598336304218657,\n",
       " 0.7311348781937017,\n",
       " 0.740344622697564,\n",
       " 0.7795603089720737,\n",
       " 0.8300653594771242,\n",
       " 0.749554367201426,\n",
       " 0.7290552584670232,\n",
       " 0.8000594177064766,\n",
       " 0.8003565062388592,\n",
       " 0.8101604278074866,\n",
       " 0.7201426024955436,\n",
       " 0.691027926322044,\n",
       " 0.8095662507427214,\n",
       " 0.7094474153297682,\n",
       " 0.8196672608437314,\n",
       " 0.8101604278074866,\n",
       " 0.7709447415329768,\n",
       " 0.7798573975044564,\n",
       " 0.7991681521093286,\n",
       " 0.8000594177064766,\n",
       " 0.7192513368983957,\n",
       " 0.7296494355317885,\n",
       " 0.7798573975044564,\n",
       " 0.7608437314319666,\n",
       " 0.7599524658348188,\n",
       " 0.7201426024955436,\n",
       " 0.7804515745692218,\n",
       " 0.7498514557338086,\n",
       " 0.7406417112299465,\n",
       " 0.8297682709447415,\n",
       " 0.7712418300653594,\n",
       " 0.7109328579916815,\n",
       " 0.8294711824123588,\n",
       " 0.7697563874034463,\n",
       " 0.8202614379084968,\n",
       " 0.7409387997623291,\n",
       " 0.7792632204396911,\n",
       " 0.8205585264408795,\n",
       " 0.8202614379084968,\n",
       " 0.7599524658348188,\n",
       " 0.7994652406417112,\n",
       " 0.6984551396316102,\n",
       " 0.7792632204396911,\n",
       " 0.7397504456327986,\n",
       " 0.7296494355317885,\n",
       " 0.6506238859180035,\n",
       " 0.7599524658348188,\n",
       " 0.7706476530005942,\n",
       " 0.7596553773024363,\n",
       " 0.7795603089720737,\n",
       " 0.7703505644682115,\n",
       " 0.7801544860368391,\n",
       " 0.8101604278074866,\n",
       " 0.7305407011289363,\n",
       " 0.7094474153297683,\n",
       " 0.7706476530005942,\n",
       " 0.7290552584670232,\n",
       " 0.7109328579916815,\n",
       " 0.7697563874034463,\n",
       " 0.7700534759358288,\n",
       " 0.7911467617349971,\n",
       " 0.8199643493761141]"
      ]
     },
     "execution_count": 17,
     "metadata": {},
     "output_type": "execute_result"
    }
   ],
   "source": [
    "test_score_nested"
   ]
  },
  {
   "cell_type": "code",
   "execution_count": 18,
   "id": "f0f7fa30-8df4-4638-90ec-96bd9dd73785",
   "metadata": {},
   "outputs": [],
   "source": [
    "scores=pd.DataFrame(test_score_nested)"
   ]
  },
  {
   "cell_type": "code",
   "execution_count": 19,
   "id": "ee574656-47ad-47c5-aafc-a8d061561f43",
   "metadata": {},
   "outputs": [
    {
     "data": {
      "text/plain": [
       "<Axes: >"
      ]
     },
     "execution_count": 19,
     "metadata": {},
     "output_type": "execute_result"
    },
    {
     "data": {
      "image/png": "[encoded data removed]",
      "text/plain": [
       "<Figure size 640x480 with 1 Axes>"
      ]
     },
     "metadata": {},
     "output_type": "display_data"
    }
   ],
   "source": [
    "scores.plot.box()"
   ]
  },
  {
   "cell_type": "code",
   "execution_count": 12,
   "id": "a0a62ed5-acc5-4b19-8675-4e9265867419",
   "metadata": {},
   "outputs": [
    {
     "data": {
      "text/html": [
       "<style>#sk-container-id-1 {color: black;}#sk-container-id-1 pre{padding: 0;}#sk-container-id-1 div.sk-toggleable {background-color: white;}#sk-container-id-1 label.sk-toggleable__label {cursor: pointer;display: block;width: 100%;margin-bottom: 0;padding: 0.3em;box-sizing: border-box;text-align: center;}#sk-container-id-1 label.sk-toggleable__label-arrow:before {content: \"▸\";float: left;margin-right: 0.25em;color: #696969;}#sk-container-id-1 label.sk-toggleable__label-arrow:hover:before {color: black;}#sk-container-id-1 div.sk-estimator:hover label.sk-toggleable__label-arrow:before {color: black;}#sk-container-id-1 div.sk-toggleable__content {max-height: 0;max-width: 0;overflow: hidden;text-align: left;background-color: #f0f8ff;}#sk-container-id-1 div.sk-toggleable__content pre {margin: 0.2em;color: black;border-radius: 0.25em;background-color: #f0f8ff;}#sk-container-id-1 input.sk-toggleable__control:checked~div.sk-toggleable__content {max-height: 200px;max-width: 100%;overflow: auto;}#sk-container-id-1 input.sk-toggleable__control:checked~label.sk-toggleable__label-arrow:before {content: \"▾\";}#sk-container-id-1 div.sk-estimator input.sk-toggleable__control:checked~label.sk-toggleable__label {background-color: #d4ebff;}#sk-container-id-1 div.sk-label input.sk-toggleable__control:checked~label.sk-toggleable__label {background-color: #d4ebff;}#sk-container-id-1 input.sk-hidden--visually {border: 0;clip: rect(1px 1px 1px 1px);clip: rect(1px, 1px, 1px, 1px);height: 1px;margin: -1px;overflow: hidden;padding: 0;position: absolute;width: 1px;}#sk-container-id-1 div.sk-estimator {font-family: monospace;background-color: #f0f8ff;border: 1px dotted black;border-radius: 0.25em;box-sizing: border-box;margin-bottom: 0.5em;}#sk-container-id-1 div.sk-estimator:hover {background-color: #d4ebff;}#sk-container-id-1 div.sk-parallel-item::after {content: \"\";width: 100%;border-bottom: 1px solid gray;flex-grow: 1;}#sk-container-id-1 div.sk-label:hover label.sk-toggleable__label {background-color: #d4ebff;}#sk-container-id-1 div.sk-serial::before {content: \"\";position: absolute;border-left: 1px solid gray;box-sizing: border-box;top: 0;bottom: 0;left: 50%;z-index: 0;}#sk-container-id-1 div.sk-serial {display: flex;flex-direction: column;align-items: center;background-color: white;padding-right: 0.2em;padding-left: 0.2em;position: relative;}#sk-container-id-1 div.sk-item {position: relative;z-index: 1;}#sk-container-id-1 div.sk-parallel {display: flex;align-items: stretch;justify-content: center;background-color: white;position: relative;}#sk-container-id-1 div.sk-item::before, #sk-container-id-1 div.sk-parallel-item::before {content: \"\";position: absolute;border-left: 1px solid gray;box-sizing: border-box;top: 0;bottom: 0;left: 50%;z-index: -1;}#sk-container-id-1 div.sk-parallel-item {display: flex;flex-direction: column;z-index: 1;position: relative;background-color: white;}#sk-container-id-1 div.sk-parallel-item:first-child::after {align-self: flex-end;width: 50%;}#sk-container-id-1 div.sk-parallel-item:last-child::after {align-self: flex-start;width: 50%;}#sk-container-id-1 div.sk-parallel-item:only-child::after {width: 0;}#sk-container-id-1 div.sk-dashed-wrapped {border: 1px dashed gray;margin: 0 0.4em 0.5em 0.4em;box-sizing: border-box;padding-bottom: 0.4em;background-color: white;}#sk-container-id-1 div.sk-label label {font-family: monospace;font-weight: bold;display: inline-block;line-height: 1.2em;}#sk-container-id-1 div.sk-label-container {text-align: center;}#sk-container-id-1 div.sk-container {/* jupyter's `normalize.less` sets `[hidden] { display: none; }` but bootstrap.min.css set `[hidden] { display: none !important; }` so we also need the `!important` here to be able to override the default hidden behavior on the sphinx rendered scikit-learn.org. See: https://github.com/scikit-learn/scikit-learn/issues/21755 */display: inline-block !important;position: relative;}#sk-container-id-1 div.sk-text-repr-fallback {display: none;}</style><div id=\"sk-container-id-1\" class=\"sk-top-container\"><div class=\"sk-text-repr-fallback\"><pre>GridSearchCV(cv=StratifiedKFold(n_splits=5, random_state=99, shuffle=True),\n",
       "             estimator=Pipeline(steps=[(&#x27;feat_sel&#x27;,\n",
       "                                        RFE(estimator=LinearSVC(C=0.01,\n",
       "                                                                dual=&#x27;auto&#x27;,\n",
       "                                                                random_state=0),\n",
       "                                            step=100)),\n",
       "                                       (&#x27;model&#x27;,\n",
       "                                        LinearSVC(dual=&#x27;auto&#x27;,\n",
       "                                                  random_state=0))]),\n",
       "             n_jobs=-1,\n",
       "             param_grid={&#x27;feat_sel__n_features_to_select&#x27;: [50, 75, 100],\n",
       "                         &#x27;model__C&#x27;: [0.01, 0.05, 0.1]})</pre><b>In a Jupyter environment, please rerun this cell to show the HTML representation or trust the notebook. <br />On GitHub, the HTML representation is unable to render, please try loading this page with nbviewer.org.</b></div><div class=\"sk-container\" hidden><div class=\"sk-item sk-dashed-wrapped\"><div class=\"sk-label-container\"><div class=\"sk-label sk-toggleable\"><input class=\"sk-toggleable__control sk-hidden--visually\" id=\"sk-estimator-id-1\" type=\"checkbox\" ><label for=\"sk-estimator-id-1\" class=\"sk-toggleable__label sk-toggleable__label-arrow\">GridSearchCV</label><div class=\"sk-toggleable__content\"><pre>GridSearchCV(cv=StratifiedKFold(n_splits=5, random_state=99, shuffle=True),\n",
       "             estimator=Pipeline(steps=[(&#x27;feat_sel&#x27;,\n",
       "                                        RFE(estimator=LinearSVC(C=0.01,\n",
       "                                                                dual=&#x27;auto&#x27;,\n",
       "                                                                random_state=0),\n",
       "                                            step=100)),\n",
       "                                       (&#x27;model&#x27;,\n",
       "                                        LinearSVC(dual=&#x27;auto&#x27;,\n",
       "                                                  random_state=0))]),\n",
       "             n_jobs=-1,\n",
       "             param_grid={&#x27;feat_sel__n_features_to_select&#x27;: [50, 75, 100],\n",
       "                         &#x27;model__C&#x27;: [0.01, 0.05, 0.1]})</pre></div></div></div><div class=\"sk-parallel\"><div class=\"sk-parallel-item\"><div class=\"sk-item\"><div class=\"sk-label-container\"><div class=\"sk-label sk-toggleable\"><input class=\"sk-toggleable__control sk-hidden--visually\" id=\"sk-estimator-id-2\" type=\"checkbox\" ><label for=\"sk-estimator-id-2\" class=\"sk-toggleable__label sk-toggleable__label-arrow\">estimator: Pipeline</label><div class=\"sk-toggleable__content\"><pre>Pipeline(steps=[(&#x27;feat_sel&#x27;,\n",
       "                 RFE(estimator=LinearSVC(C=0.01, dual=&#x27;auto&#x27;, random_state=0),\n",
       "                     step=100)),\n",
       "                (&#x27;model&#x27;, LinearSVC(dual=&#x27;auto&#x27;, random_state=0))])</pre></div></div></div><div class=\"sk-serial\"><div class=\"sk-item\"><div class=\"sk-serial\"><div class=\"sk-item sk-dashed-wrapped\"><div class=\"sk-label-container\"><div class=\"sk-label sk-toggleable\"><input class=\"sk-toggleable__control sk-hidden--visually\" id=\"sk-estimator-id-3\" type=\"checkbox\" ><label for=\"sk-estimator-id-3\" class=\"sk-toggleable__label sk-toggleable__label-arrow\">feat_sel: RFE</label><div class=\"sk-toggleable__content\"><pre>RFE(estimator=LinearSVC(C=0.01, dual=&#x27;auto&#x27;, random_state=0), step=100)</pre></div></div></div><div class=\"sk-parallel\"><div class=\"sk-parallel-item\"><div class=\"sk-item\"><div class=\"sk-label-container\"><div class=\"sk-label sk-toggleable\"><input class=\"sk-toggleable__control sk-hidden--visually\" id=\"sk-estimator-id-4\" type=\"checkbox\" ><label for=\"sk-estimator-id-4\" class=\"sk-toggleable__label sk-toggleable__label-arrow\">estimator: LinearSVC</label><div class=\"sk-toggleable__content\"><pre>LinearSVC(C=0.01, dual=&#x27;auto&#x27;, random_state=0)</pre></div></div></div><div class=\"sk-serial\"><div class=\"sk-item\"><div class=\"sk-estimator sk-toggleable\"><input class=\"sk-toggleable__control sk-hidden--visually\" id=\"sk-estimator-id-5\" type=\"checkbox\" ><label for=\"sk-estimator-id-5\" class=\"sk-toggleable__label sk-toggleable__label-arrow\">LinearSVC</label><div class=\"sk-toggleable__content\"><pre>LinearSVC(C=0.01, dual=&#x27;auto&#x27;, random_state=0)</pre></div></div></div></div></div></div></div></div><div class=\"sk-item\"><div class=\"sk-estimator sk-toggleable\"><input class=\"sk-toggleable__control sk-hidden--visually\" id=\"sk-estimator-id-6\" type=\"checkbox\" ><label for=\"sk-estimator-id-6\" class=\"sk-toggleable__label sk-toggleable__label-arrow\">LinearSVC</label><div class=\"sk-toggleable__content\"><pre>LinearSVC(dual=&#x27;auto&#x27;, random_state=0)</pre></div></div></div></div></div></div></div></div></div></div></div></div>"
      ],
      "text/plain": [
       "GridSearchCV(cv=StratifiedKFold(n_splits=5, random_state=99, shuffle=True),\n",
       "             estimator=Pipeline(steps=[('feat_sel',\n",
       "                                        RFE(estimator=LinearSVC(C=0.01,\n",
       "                                                                dual='auto',\n",
       "                                                                random_state=0),\n",
       "                                            step=100)),\n",
       "                                       ('model',\n",
       "                                        LinearSVC(dual='auto',\n",
       "                                                  random_state=0))]),\n",
       "             n_jobs=-1,\n",
       "             param_grid={'feat_sel__n_features_to_select': [50, 75, 100],\n",
       "                         'model__C': [0.01, 0.05, 0.1]})"
      ]
     },
     "execution_count": 12,
     "metadata": {},
     "output_type": "execute_result"
    }
   ],
   "source": [
    "search"
   ]
  },
  {
   "cell_type": "code",
   "execution_count": 13,
   "id": "98a0d1a6-9966-4bf8-a5ad-ff4700947a5c",
   "metadata": {},
   "outputs": [
    {
     "data": {
      "text/html": [
       "<style>#sk-container-id-2 {color: black;}#sk-container-id-2 pre{padding: 0;}#sk-container-id-2 div.sk-toggleable {background-color: white;}#sk-container-id-2 label.sk-toggleable__label {cursor: pointer;display: block;width: 100%;margin-bottom: 0;padding: 0.3em;box-sizing: border-box;text-align: center;}#sk-container-id-2 label.sk-toggleable__label-arrow:before {content: \"▸\";float: left;margin-right: 0.25em;color: #696969;}#sk-container-id-2 label.sk-toggleable__label-arrow:hover:before {color: black;}#sk-container-id-2 div.sk-estimator:hover label.sk-toggleable__label-arrow:before {color: black;}#sk-container-id-2 div.sk-toggleable__content {max-height: 0;max-width: 0;overflow: hidden;text-align: left;background-color: #f0f8ff;}#sk-container-id-2 div.sk-toggleable__content pre {margin: 0.2em;color: black;border-radius: 0.25em;background-color: #f0f8ff;}#sk-container-id-2 input.sk-toggleable__control:checked~div.sk-toggleable__content {max-height: 200px;max-width: 100%;overflow: auto;}#sk-container-id-2 input.sk-toggleable__control:checked~label.sk-toggleable__label-arrow:before {content: \"▾\";}#sk-container-id-2 div.sk-estimator input.sk-toggleable__control:checked~label.sk-toggleable__label {background-color: #d4ebff;}#sk-container-id-2 div.sk-label input.sk-toggleable__control:checked~label.sk-toggleable__label {background-color: #d4ebff;}#sk-container-id-2 input.sk-hidden--visually {border: 0;clip: rect(1px 1px 1px 1px);clip: rect(1px, 1px, 1px, 1px);height: 1px;margin: -1px;overflow: hidden;padding: 0;position: absolute;width: 1px;}#sk-container-id-2 div.sk-estimator {font-family: monospace;background-color: #f0f8ff;border: 1px dotted black;border-radius: 0.25em;box-sizing: border-box;margin-bottom: 0.5em;}#sk-container-id-2 div.sk-estimator:hover {background-color: #d4ebff;}#sk-container-id-2 div.sk-parallel-item::after {content: \"\";width: 100%;border-bottom: 1px solid gray;flex-grow: 1;}#sk-container-id-2 div.sk-label:hover label.sk-toggleable__label {background-color: #d4ebff;}#sk-container-id-2 div.sk-serial::before {content: \"\";position: absolute;border-left: 1px solid gray;box-sizing: border-box;top: 0;bottom: 0;left: 50%;z-index: 0;}#sk-container-id-2 div.sk-serial {display: flex;flex-direction: column;align-items: center;background-color: white;padding-right: 0.2em;padding-left: 0.2em;position: relative;}#sk-container-id-2 div.sk-item {position: relative;z-index: 1;}#sk-container-id-2 div.sk-parallel {display: flex;align-items: stretch;justify-content: center;background-color: white;position: relative;}#sk-container-id-2 div.sk-item::before, #sk-container-id-2 div.sk-parallel-item::before {content: \"\";position: absolute;border-left: 1px solid gray;box-sizing: border-box;top: 0;bottom: 0;left: 50%;z-index: -1;}#sk-container-id-2 div.sk-parallel-item {display: flex;flex-direction: column;z-index: 1;position: relative;background-color: white;}#sk-container-id-2 div.sk-parallel-item:first-child::after {align-self: flex-end;width: 50%;}#sk-container-id-2 div.sk-parallel-item:last-child::after {align-self: flex-start;width: 50%;}#sk-container-id-2 div.sk-parallel-item:only-child::after {width: 0;}#sk-container-id-2 div.sk-dashed-wrapped {border: 1px dashed gray;margin: 0 0.4em 0.5em 0.4em;box-sizing: border-box;padding-bottom: 0.4em;background-color: white;}#sk-container-id-2 div.sk-label label {font-family: monospace;font-weight: bold;display: inline-block;line-height: 1.2em;}#sk-container-id-2 div.sk-label-container {text-align: center;}#sk-container-id-2 div.sk-container {/* jupyter's `normalize.less` sets `[hidden] { display: none; }` but bootstrap.min.css set `[hidden] { display: none !important; }` so we also need the `!important` here to be able to override the default hidden behavior on the sphinx rendered scikit-learn.org. See: https://github.com/scikit-learn/scikit-learn/issues/21755 */display: inline-block !important;position: relative;}#sk-container-id-2 div.sk-text-repr-fallback {display: none;}</style><div id=\"sk-container-id-2\" class=\"sk-top-container\"><div class=\"sk-text-repr-fallback\"><pre>GridSearchCV(cv=StratifiedKFold(n_splits=5, random_state=99, shuffle=True),\n",
       "             estimator=Pipeline(steps=[(&#x27;feat_sel&#x27;,\n",
       "                                        RFE(estimator=LinearSVC(C=0.01,\n",
       "                                                                dual=&#x27;auto&#x27;,\n",
       "                                                                random_state=0),\n",
       "                                            step=100)),\n",
       "                                       (&#x27;model&#x27;,\n",
       "                                        LinearSVC(dual=&#x27;auto&#x27;,\n",
       "                                                  random_state=0))]),\n",
       "             n_jobs=-1,\n",
       "             param_grid={&#x27;feat_sel__n_features_to_select&#x27;: [50, 75, 100],\n",
       "                         &#x27;model__C&#x27;: [0.01, 0.05, 0.1]})</pre><b>In a Jupyter environment, please rerun this cell to show the HTML representation or trust the notebook. <br />On GitHub, the HTML representation is unable to render, please try loading this page with nbviewer.org.</b></div><div class=\"sk-container\" hidden><div class=\"sk-item sk-dashed-wrapped\"><div class=\"sk-label-container\"><div class=\"sk-label sk-toggleable\"><input class=\"sk-toggleable__control sk-hidden--visually\" id=\"sk-estimator-id-7\" type=\"checkbox\" ><label for=\"sk-estimator-id-7\" class=\"sk-toggleable__label sk-toggleable__label-arrow\">GridSearchCV</label><div class=\"sk-toggleable__content\"><pre>GridSearchCV(cv=StratifiedKFold(n_splits=5, random_state=99, shuffle=True),\n",
       "             estimator=Pipeline(steps=[(&#x27;feat_sel&#x27;,\n",
       "                                        RFE(estimator=LinearSVC(C=0.01,\n",
       "                                                                dual=&#x27;auto&#x27;,\n",
       "                                                                random_state=0),\n",
       "                                            step=100)),\n",
       "                                       (&#x27;model&#x27;,\n",
       "                                        LinearSVC(dual=&#x27;auto&#x27;,\n",
       "                                                  random_state=0))]),\n",
       "             n_jobs=-1,\n",
       "             param_grid={&#x27;feat_sel__n_features_to_select&#x27;: [50, 75, 100],\n",
       "                         &#x27;model__C&#x27;: [0.01, 0.05, 0.1]})</pre></div></div></div><div class=\"sk-parallel\"><div class=\"sk-parallel-item\"><div class=\"sk-item\"><div class=\"sk-label-container\"><div class=\"sk-label sk-toggleable\"><input class=\"sk-toggleable__control sk-hidden--visually\" id=\"sk-estimator-id-8\" type=\"checkbox\" ><label for=\"sk-estimator-id-8\" class=\"sk-toggleable__label sk-toggleable__label-arrow\">estimator: Pipeline</label><div class=\"sk-toggleable__content\"><pre>Pipeline(steps=[(&#x27;feat_sel&#x27;,\n",
       "                 RFE(estimator=LinearSVC(C=0.01, dual=&#x27;auto&#x27;, random_state=0),\n",
       "                     step=100)),\n",
       "                (&#x27;model&#x27;, LinearSVC(dual=&#x27;auto&#x27;, random_state=0))])</pre></div></div></div><div class=\"sk-serial\"><div class=\"sk-item\"><div class=\"sk-serial\"><div class=\"sk-item sk-dashed-wrapped\"><div class=\"sk-label-container\"><div class=\"sk-label sk-toggleable\"><input class=\"sk-toggleable__control sk-hidden--visually\" id=\"sk-estimator-id-9\" type=\"checkbox\" ><label for=\"sk-estimator-id-9\" class=\"sk-toggleable__label sk-toggleable__label-arrow\">feat_sel: RFE</label><div class=\"sk-toggleable__content\"><pre>RFE(estimator=LinearSVC(C=0.01, dual=&#x27;auto&#x27;, random_state=0), step=100)</pre></div></div></div><div class=\"sk-parallel\"><div class=\"sk-parallel-item\"><div class=\"sk-item\"><div class=\"sk-label-container\"><div class=\"sk-label sk-toggleable\"><input class=\"sk-toggleable__control sk-hidden--visually\" id=\"sk-estimator-id-10\" type=\"checkbox\" ><label for=\"sk-estimator-id-10\" class=\"sk-toggleable__label sk-toggleable__label-arrow\">estimator: LinearSVC</label><div class=\"sk-toggleable__content\"><pre>LinearSVC(C=0.01, dual=&#x27;auto&#x27;, random_state=0)</pre></div></div></div><div class=\"sk-serial\"><div class=\"sk-item\"><div class=\"sk-estimator sk-toggleable\"><input class=\"sk-toggleable__control sk-hidden--visually\" id=\"sk-estimator-id-11\" type=\"checkbox\" ><label for=\"sk-estimator-id-11\" class=\"sk-toggleable__label sk-toggleable__label-arrow\">LinearSVC</label><div class=\"sk-toggleable__content\"><pre>LinearSVC(C=0.01, dual=&#x27;auto&#x27;, random_state=0)</pre></div></div></div></div></div></div></div></div><div class=\"sk-item\"><div class=\"sk-estimator sk-toggleable\"><input class=\"sk-toggleable__control sk-hidden--visually\" id=\"sk-estimator-id-12\" type=\"checkbox\" ><label for=\"sk-estimator-id-12\" class=\"sk-toggleable__label sk-toggleable__label-arrow\">LinearSVC</label><div class=\"sk-toggleable__content\"><pre>LinearSVC(dual=&#x27;auto&#x27;, random_state=0)</pre></div></div></div></div></div></div></div></div></div></div></div></div>"
      ],
      "text/plain": [
       "GridSearchCV(cv=StratifiedKFold(n_splits=5, random_state=99, shuffle=True),\n",
       "             estimator=Pipeline(steps=[('feat_sel',\n",
       "                                        RFE(estimator=LinearSVC(C=0.01,\n",
       "                                                                dual='auto',\n",
       "                                                                random_state=0),\n",
       "                                            step=100)),\n",
       "                                       ('model',\n",
       "                                        LinearSVC(dual='auto',\n",
       "                                                  random_state=0))]),\n",
       "             n_jobs=-1,\n",
       "             param_grid={'feat_sel__n_features_to_select': [50, 75, 100],\n",
       "                         'model__C': [0.01, 0.05, 0.1]})"
      ]
     },
     "execution_count": 13,
     "metadata": {},
     "output_type": "execute_result"
    }
   ],
   "source": [
    "#search for best hyperparameters on whole train set\n",
    "search.fit(x,y)"
   ]
  },
  {
   "cell_type": "code",
   "execution_count": 14,
   "id": "aec164d8-4b5f-499a-9aec-63a3dcf7cc4f",
   "metadata": {
    "scrolled": true
   },
   "outputs": [
    {
     "data": {
      "text/html": [
       "<style>#sk-container-id-3 {color: black;}#sk-container-id-3 pre{padding: 0;}#sk-container-id-3 div.sk-toggleable {background-color: white;}#sk-container-id-3 label.sk-toggleable__label {cursor: pointer;display: block;width: 100%;margin-bottom: 0;padding: 0.3em;box-sizing: border-box;text-align: center;}#sk-container-id-3 label.sk-toggleable__label-arrow:before {content: \"▸\";float: left;margin-right: 0.25em;color: #696969;}#sk-container-id-3 label.sk-toggleable__label-arrow:hover:before {color: black;}#sk-container-id-3 div.sk-estimator:hover label.sk-toggleable__label-arrow:before {color: black;}#sk-container-id-3 div.sk-toggleable__content {max-height: 0;max-width: 0;overflow: hidden;text-align: left;background-color: #f0f8ff;}#sk-container-id-3 div.sk-toggleable__content pre {margin: 0.2em;color: black;border-radius: 0.25em;background-color: #f0f8ff;}#sk-container-id-3 input.sk-toggleable__control:checked~div.sk-toggleable__content {max-height: 200px;max-width: 100%;overflow: auto;}#sk-container-id-3 input.sk-toggleable__control:checked~label.sk-toggleable__label-arrow:before {content: \"▾\";}#sk-container-id-3 div.sk-estimator input.sk-toggleable__control:checked~label.sk-toggleable__label {background-color: #d4ebff;}#sk-container-id-3 div.sk-label input.sk-toggleable__control:checked~label.sk-toggleable__label {background-color: #d4ebff;}#sk-container-id-3 input.sk-hidden--visually {border: 0;clip: rect(1px 1px 1px 1px);clip: rect(1px, 1px, 1px, 1px);height: 1px;margin: -1px;overflow: hidden;padding: 0;position: absolute;width: 1px;}#sk-container-id-3 div.sk-estimator {font-family: monospace;background-color: #f0f8ff;border: 1px dotted black;border-radius: 0.25em;box-sizing: border-box;margin-bottom: 0.5em;}#sk-container-id-3 div.sk-estimator:hover {background-color: #d4ebff;}#sk-container-id-3 div.sk-parallel-item::after {content: \"\";width: 100%;border-bottom: 1px solid gray;flex-grow: 1;}#sk-container-id-3 div.sk-label:hover label.sk-toggleable__label {background-color: #d4ebff;}#sk-container-id-3 div.sk-serial::before {content: \"\";position: absolute;border-left: 1px solid gray;box-sizing: border-box;top: 0;bottom: 0;left: 50%;z-index: 0;}#sk-container-id-3 div.sk-serial {display: flex;flex-direction: column;align-items: center;background-color: white;padding-right: 0.2em;padding-left: 0.2em;position: relative;}#sk-container-id-3 div.sk-item {position: relative;z-index: 1;}#sk-container-id-3 div.sk-parallel {display: flex;align-items: stretch;justify-content: center;background-color: white;position: relative;}#sk-container-id-3 div.sk-item::before, #sk-container-id-3 div.sk-parallel-item::before {content: \"\";position: absolute;border-left: 1px solid gray;box-sizing: border-box;top: 0;bottom: 0;left: 50%;z-index: -1;}#sk-container-id-3 div.sk-parallel-item {display: flex;flex-direction: column;z-index: 1;position: relative;background-color: white;}#sk-container-id-3 div.sk-parallel-item:first-child::after {align-self: flex-end;width: 50%;}#sk-container-id-3 div.sk-parallel-item:last-child::after {align-self: flex-start;width: 50%;}#sk-container-id-3 div.sk-parallel-item:only-child::after {width: 0;}#sk-container-id-3 div.sk-dashed-wrapped {border: 1px dashed gray;margin: 0 0.4em 0.5em 0.4em;box-sizing: border-box;padding-bottom: 0.4em;background-color: white;}#sk-container-id-3 div.sk-label label {font-family: monospace;font-weight: bold;display: inline-block;line-height: 1.2em;}#sk-container-id-3 div.sk-label-container {text-align: center;}#sk-container-id-3 div.sk-container {/* jupyter's `normalize.less` sets `[hidden] { display: none; }` but bootstrap.min.css set `[hidden] { display: none !important; }` so we also need the `!important` here to be able to override the default hidden behavior on the sphinx rendered scikit-learn.org. See: https://github.com/scikit-learn/scikit-learn/issues/21755 */display: inline-block !important;position: relative;}#sk-container-id-3 div.sk-text-repr-fallback {display: none;}</style><div id=\"sk-container-id-3\" class=\"sk-top-container\"><div class=\"sk-text-repr-fallback\"><pre>Pipeline(steps=[(&#x27;feat_sel&#x27;,\n",
       "                 RFE(estimator=LinearSVC(C=0.01, dual=&#x27;auto&#x27;, random_state=0),\n",
       "                     n_features_to_select=50, step=100)),\n",
       "                (&#x27;model&#x27;, LinearSVC(C=0.01, dual=&#x27;auto&#x27;, random_state=0))])</pre><b>In a Jupyter environment, please rerun this cell to show the HTML representation or trust the notebook. <br />On GitHub, the HTML representation is unable to render, please try loading this page with nbviewer.org.</b></div><div class=\"sk-container\" hidden><div class=\"sk-item sk-dashed-wrapped\"><div class=\"sk-label-container\"><div class=\"sk-label sk-toggleable\"><input class=\"sk-toggleable__control sk-hidden--visually\" id=\"sk-estimator-id-13\" type=\"checkbox\" ><label for=\"sk-estimator-id-13\" class=\"sk-toggleable__label sk-toggleable__label-arrow\">Pipeline</label><div class=\"sk-toggleable__content\"><pre>Pipeline(steps=[(&#x27;feat_sel&#x27;,\n",
       "                 RFE(estimator=LinearSVC(C=0.01, dual=&#x27;auto&#x27;, random_state=0),\n",
       "                     n_features_to_select=50, step=100)),\n",
       "                (&#x27;model&#x27;, LinearSVC(C=0.01, dual=&#x27;auto&#x27;, random_state=0))])</pre></div></div></div><div class=\"sk-serial\"><div class=\"sk-item sk-dashed-wrapped\"><div class=\"sk-label-container\"><div class=\"sk-label sk-toggleable\"><input class=\"sk-toggleable__control sk-hidden--visually\" id=\"sk-estimator-id-14\" type=\"checkbox\" ><label for=\"sk-estimator-id-14\" class=\"sk-toggleable__label sk-toggleable__label-arrow\">feat_sel: RFE</label><div class=\"sk-toggleable__content\"><pre>RFE(estimator=LinearSVC(C=0.01, dual=&#x27;auto&#x27;, random_state=0),\n",
       "    n_features_to_select=50, step=100)</pre></div></div></div><div class=\"sk-parallel\"><div class=\"sk-parallel-item\"><div class=\"sk-item\"><div class=\"sk-label-container\"><div class=\"sk-label sk-toggleable\"><input class=\"sk-toggleable__control sk-hidden--visually\" id=\"sk-estimator-id-15\" type=\"checkbox\" ><label for=\"sk-estimator-id-15\" class=\"sk-toggleable__label sk-toggleable__label-arrow\">estimator: LinearSVC</label><div class=\"sk-toggleable__content\"><pre>LinearSVC(C=0.01, dual=&#x27;auto&#x27;, random_state=0)</pre></div></div></div><div class=\"sk-serial\"><div class=\"sk-item\"><div class=\"sk-estimator sk-toggleable\"><input class=\"sk-toggleable__control sk-hidden--visually\" id=\"sk-estimator-id-16\" type=\"checkbox\" ><label for=\"sk-estimator-id-16\" class=\"sk-toggleable__label sk-toggleable__label-arrow\">LinearSVC</label><div class=\"sk-toggleable__content\"><pre>LinearSVC(C=0.01, dual=&#x27;auto&#x27;, random_state=0)</pre></div></div></div></div></div></div></div></div><div class=\"sk-item\"><div class=\"sk-estimator sk-toggleable\"><input class=\"sk-toggleable__control sk-hidden--visually\" id=\"sk-estimator-id-17\" type=\"checkbox\" ><label for=\"sk-estimator-id-17\" class=\"sk-toggleable__label sk-toggleable__label-arrow\">LinearSVC</label><div class=\"sk-toggleable__content\"><pre>LinearSVC(C=0.01, dual=&#x27;auto&#x27;, random_state=0)</pre></div></div></div></div></div></div></div>"
      ],
      "text/plain": [
       "Pipeline(steps=[('feat_sel',\n",
       "                 RFE(estimator=LinearSVC(C=0.01, dual='auto', random_state=0),\n",
       "                     n_features_to_select=50, step=100)),\n",
       "                ('model', LinearSVC(C=0.01, dual='auto', random_state=0))])"
      ]
     },
     "execution_count": 14,
     "metadata": {},
     "output_type": "execute_result"
    }
   ],
   "source": [
    "search.best_estimator_"
   ]
  },
  {
   "cell_type": "code",
   "execution_count": 15,
   "id": "26f5acac-8c6b-44b5-9a76-84ac148fc680",
   "metadata": {},
   "outputs": [
    {
     "data": {
      "text/plain": [
       "0.85"
      ]
     },
     "execution_count": 15,
     "metadata": {},
     "output_type": "execute_result"
    }
   ],
   "source": [
    "search.best_score_"
   ]
  },
  {
   "cell_type": "code",
   "execution_count": 31,
   "id": "f8b00d71-73d1-4c2b-bd4c-c86a7ae76612",
   "metadata": {},
   "outputs": [
    {
     "data": {
      "text/html": [
       "<style>#sk-container-id-5 {color: black;}#sk-container-id-5 pre{padding: 0;}#sk-container-id-5 div.sk-toggleable {background-color: white;}#sk-container-id-5 label.sk-toggleable__label {cursor: pointer;display: block;width: 100%;margin-bottom: 0;padding: 0.3em;box-sizing: border-box;text-align: center;}#sk-container-id-5 label.sk-toggleable__label-arrow:before {content: \"▸\";float: left;margin-right: 0.25em;color: #696969;}#sk-container-id-5 label.sk-toggleable__label-arrow:hover:before {color: black;}#sk-container-id-5 div.sk-estimator:hover label.sk-toggleable__label-arrow:before {color: black;}#sk-container-id-5 div.sk-toggleable__content {max-height: 0;max-width: 0;overflow: hidden;text-align: left;background-color: #f0f8ff;}#sk-container-id-5 div.sk-toggleable__content pre {margin: 0.2em;color: black;border-radius: 0.25em;background-color: #f0f8ff;}#sk-container-id-5 input.sk-toggleable__control:checked~div.sk-toggleable__content {max-height: 200px;max-width: 100%;overflow: auto;}#sk-container-id-5 input.sk-toggleable__control:checked~label.sk-toggleable__label-arrow:before {content: \"▾\";}#sk-container-id-5 div.sk-estimator input.sk-toggleable__control:checked~label.sk-toggleable__label {background-color: #d4ebff;}#sk-container-id-5 div.sk-label input.sk-toggleable__control:checked~label.sk-toggleable__label {background-color: #d4ebff;}#sk-container-id-5 input.sk-hidden--visually {border: 0;clip: rect(1px 1px 1px 1px);clip: rect(1px, 1px, 1px, 1px);height: 1px;margin: -1px;overflow: hidden;padding: 0;position: absolute;width: 1px;}#sk-container-id-5 div.sk-estimator {font-family: monospace;background-color: #f0f8ff;border: 1px dotted black;border-radius: 0.25em;box-sizing: border-box;margin-bottom: 0.5em;}#sk-container-id-5 div.sk-estimator:hover {background-color: #d4ebff;}#sk-container-id-5 div.sk-parallel-item::after {content: \"\";width: 100%;border-bottom: 1px solid gray;flex-grow: 1;}#sk-container-id-5 div.sk-label:hover label.sk-toggleable__label {background-color: #d4ebff;}#sk-container-id-5 div.sk-serial::before {content: \"\";position: absolute;border-left: 1px solid gray;box-sizing: border-box;top: 0;bottom: 0;left: 50%;z-index: 0;}#sk-container-id-5 div.sk-serial {display: flex;flex-direction: column;align-items: center;background-color: white;padding-right: 0.2em;padding-left: 0.2em;position: relative;}#sk-container-id-5 div.sk-item {position: relative;z-index: 1;}#sk-container-id-5 div.sk-parallel {display: flex;align-items: stretch;justify-content: center;background-color: white;position: relative;}#sk-container-id-5 div.sk-item::before, #sk-container-id-5 div.sk-parallel-item::before {content: \"\";position: absolute;border-left: 1px solid gray;box-sizing: border-box;top: 0;bottom: 0;left: 50%;z-index: -1;}#sk-container-id-5 div.sk-parallel-item {display: flex;flex-direction: column;z-index: 1;position: relative;background-color: white;}#sk-container-id-5 div.sk-parallel-item:first-child::after {align-self: flex-end;width: 50%;}#sk-container-id-5 div.sk-parallel-item:last-child::after {align-self: flex-start;width: 50%;}#sk-container-id-5 div.sk-parallel-item:only-child::after {width: 0;}#sk-container-id-5 div.sk-dashed-wrapped {border: 1px dashed gray;margin: 0 0.4em 0.5em 0.4em;box-sizing: border-box;padding-bottom: 0.4em;background-color: white;}#sk-container-id-5 div.sk-label label {font-family: monospace;font-weight: bold;display: inline-block;line-height: 1.2em;}#sk-container-id-5 div.sk-label-container {text-align: center;}#sk-container-id-5 div.sk-container {/* jupyter's `normalize.less` sets `[hidden] { display: none; }` but bootstrap.min.css set `[hidden] { display: none !important; }` so we also need the `!important` here to be able to override the default hidden behavior on the sphinx rendered scikit-learn.org. See: https://github.com/scikit-learn/scikit-learn/issues/21755 */display: inline-block !important;position: relative;}#sk-container-id-5 div.sk-text-repr-fallback {display: none;}</style><div id=\"sk-container-id-5\" class=\"sk-top-container\"><div class=\"sk-text-repr-fallback\"><pre>Pipeline(steps=[(&#x27;feat_sel&#x27;,\n",
       "                 RFE(estimator=LinearSVC(C=0.01, dual=&#x27;auto&#x27;, random_state=0),\n",
       "                     n_features_to_select=50, step=100)),\n",
       "                (&#x27;model&#x27;, LinearSVC(C=0.01, dual=&#x27;auto&#x27;, random_state=0))])</pre><b>In a Jupyter environment, please rerun this cell to show the HTML representation or trust the notebook. <br />On GitHub, the HTML representation is unable to render, please try loading this page with nbviewer.org.</b></div><div class=\"sk-container\" hidden><div class=\"sk-item sk-dashed-wrapped\"><div class=\"sk-label-container\"><div class=\"sk-label sk-toggleable\"><input class=\"sk-toggleable__control sk-hidden--visually\" id=\"sk-estimator-id-19\" type=\"checkbox\" ><label for=\"sk-estimator-id-19\" class=\"sk-toggleable__label sk-toggleable__label-arrow\">Pipeline</label><div class=\"sk-toggleable__content\"><pre>Pipeline(steps=[(&#x27;feat_sel&#x27;,\n",
       "                 RFE(estimator=LinearSVC(C=0.01, dual=&#x27;auto&#x27;, random_state=0),\n",
       "                     n_features_to_select=50, step=100)),\n",
       "                (&#x27;model&#x27;, LinearSVC(C=0.01, dual=&#x27;auto&#x27;, random_state=0))])</pre></div></div></div><div class=\"sk-serial\"><div class=\"sk-item sk-dashed-wrapped\"><div class=\"sk-label-container\"><div class=\"sk-label sk-toggleable\"><input class=\"sk-toggleable__control sk-hidden--visually\" id=\"sk-estimator-id-20\" type=\"checkbox\" ><label for=\"sk-estimator-id-20\" class=\"sk-toggleable__label sk-toggleable__label-arrow\">feat_sel: RFE</label><div class=\"sk-toggleable__content\"><pre>RFE(estimator=LinearSVC(C=0.01, dual=&#x27;auto&#x27;, random_state=0),\n",
       "    n_features_to_select=50, step=100)</pre></div></div></div><div class=\"sk-parallel\"><div class=\"sk-parallel-item\"><div class=\"sk-item\"><div class=\"sk-label-container\"><div class=\"sk-label sk-toggleable\"><input class=\"sk-toggleable__control sk-hidden--visually\" id=\"sk-estimator-id-21\" type=\"checkbox\" ><label for=\"sk-estimator-id-21\" class=\"sk-toggleable__label sk-toggleable__label-arrow\">estimator: LinearSVC</label><div class=\"sk-toggleable__content\"><pre>LinearSVC(C=0.01, dual=&#x27;auto&#x27;, random_state=0)</pre></div></div></div><div class=\"sk-serial\"><div class=\"sk-item\"><div class=\"sk-estimator sk-toggleable\"><input class=\"sk-toggleable__control sk-hidden--visually\" id=\"sk-estimator-id-22\" type=\"checkbox\" ><label for=\"sk-estimator-id-22\" class=\"sk-toggleable__label sk-toggleable__label-arrow\">LinearSVC</label><div class=\"sk-toggleable__content\"><pre>LinearSVC(C=0.01, dual=&#x27;auto&#x27;, random_state=0)</pre></div></div></div></div></div></div></div></div><div class=\"sk-item\"><div class=\"sk-estimator sk-toggleable\"><input class=\"sk-toggleable__control sk-hidden--visually\" id=\"sk-estimator-id-23\" type=\"checkbox\" ><label for=\"sk-estimator-id-23\" class=\"sk-toggleable__label sk-toggleable__label-arrow\">LinearSVC</label><div class=\"sk-toggleable__content\"><pre>LinearSVC(C=0.01, dual=&#x27;auto&#x27;, random_state=0)</pre></div></div></div></div></div></div></div>"
      ],
      "text/plain": [
       "Pipeline(steps=[('feat_sel',\n",
       "                 RFE(estimator=LinearSVC(C=0.01, dual='auto', random_state=0),\n",
       "                     n_features_to_select=50, step=100)),\n",
       "                ('model', LinearSVC(C=0.01, dual='auto', random_state=0))])"
      ]
     },
     "execution_count": 31,
     "metadata": {},
     "output_type": "execute_result"
    }
   ],
   "source": [
    "search.best_estimator_.fit(x,y)"
   ]
  },
  {
   "cell_type": "code",
   "execution_count": 32,
   "id": "de0e84c8-ee02-4072-b99a-88791c2568ac",
   "metadata": {},
   "outputs": [],
   "source": [
    "#get the best RFE object\n",
    "rfe=search.best_estimator_['feat_sel']"
   ]
  },
  {
   "cell_type": "code",
   "execution_count": 83,
   "id": "416c67d5-59ab-4500-b10b-06b8452f450f",
   "metadata": {},
   "outputs": [],
   "source": [
    "#get the best model\n",
    "model=search.best_estimator_['model']"
   ]
  },
  {
   "cell_type": "code",
   "execution_count": 34,
   "id": "bb33218b-d237-415f-b11d-011e9371e487",
   "metadata": {},
   "outputs": [
    {
     "data": {
      "text/plain": [
       "array([False, False, False, ..., False, False, False])"
      ]
     },
     "execution_count": 34,
     "metadata": {},
     "output_type": "execute_result"
    }
   ],
   "source": [
    "#get the bool values for features\n",
    "mask=rfe.get_support()\n",
    "mask"
   ]
  },
  {
   "cell_type": "code",
   "execution_count": 35,
   "id": "96769102-14b4-4bb0-813a-ef47ed5e9512",
   "metadata": {},
   "outputs": [],
   "source": [
    "#get the features used by the best model\n",
    "mask=rfe.get_support()\n",
    "features=x.columns[mask]"
   ]
  },
  {
   "cell_type": "code",
   "execution_count": 36,
   "id": "de9cc72d-7402-4976-9dcf-a511326c8b1d",
   "metadata": {},
   "outputs": [
    {
     "data": {
      "text/plain": [
       "Index(['42', '193', '231', '487', '696', '747', '763', '766', '792', '852',\n",
       "       '855', '856', '1010', '1036', '1092', '1144', '1244', '1560', '1563',\n",
       "       '1570', '1657', '1664', '1673', '1678', '1679', '1882', '1974', '2018',\n",
       "       '2022', '2024', '2025', '2027', '2028', '2057', '2114', '2127', '2185',\n",
       "       '2207', '2208', '2211', '2212', '2214', '2215', '2219', '2516', '2548',\n",
       "       '2663', '2743', '2751', '2761'],\n",
       "      dtype='object')"
      ]
     },
     "execution_count": 36,
     "metadata": {},
     "output_type": "execute_result"
    }
   ],
   "source": [
    "features"
   ]
  },
  {
   "cell_type": "code",
   "execution_count": 37,
   "id": "6649a149-468a-4fda-8b6b-aa90cc179c59",
   "metadata": {},
   "outputs": [
    {
     "data": {
      "text/plain": [
       "array(['HER2+', 'HR+', 'Triple Neg'], dtype=object)"
      ]
     },
     "execution_count": 37,
     "metadata": {},
     "output_type": "execute_result"
    }
   ],
   "source": [
    "model.classes_"
   ]
  },
  {
   "cell_type": "code",
   "execution_count": 38,
   "id": "5bcf0336-f6bf-4f59-b555-d3513c263bc2",
   "metadata": {},
   "outputs": [
    {
     "data": {
      "text/plain": [
       "array([[-3.60265740e-02,  4.07289563e-03, -3.57331702e-02,\n",
       "        -1.05797825e-01, -1.80825782e-02, -3.76751592e-02,\n",
       "         6.16866168e-02, -2.80590687e-02,  2.53555393e-02,\n",
       "         4.50230494e-02,  8.24920314e-02,  7.55334649e-02,\n",
       "         1.88096032e-02,  2.57648972e-02, -9.89672790e-02,\n",
       "        -4.93932874e-02, -4.64777151e-02, -4.52202374e-02,\n",
       "         9.18975365e-03,  6.31264638e-02,  1.81175289e-02,\n",
       "        -3.07126606e-02,  1.13557042e-02,  6.80759015e-03,\n",
       "         7.50536708e-03,  5.15906733e-02, -1.02787134e-01,\n",
       "        -1.79119632e-02,  9.37351803e-02, -1.39108482e-02,\n",
       "        -1.17380889e-02, -1.43222897e-02, -8.38964225e-03,\n",
       "        -5.19998540e-02,  7.95759858e-02,  6.50563494e-02,\n",
       "         3.57767726e-01, -4.24309793e-02, -4.24309793e-02,\n",
       "        -5.39294953e-02, -6.11364324e-02, -8.21541331e-02,\n",
       "        -7.44578737e-02, -6.23290702e-02, -3.57139638e-02,\n",
       "        -4.09742659e-03,  3.69643053e-02,  1.48609878e-01,\n",
       "         6.69270933e-03, -2.93646164e-02],\n",
       "       [ 1.18477943e-01,  5.51625511e-02, -6.12943639e-02,\n",
       "        -2.77968345e-02,  1.51679606e-01, -7.77235695e-02,\n",
       "        -4.09941087e-02, -8.11587987e-02, -8.48720364e-02,\n",
       "        -5.49389559e-02, -6.58828901e-02, -5.83113732e-02,\n",
       "        -3.02535938e-03,  1.09254758e-01,  6.55932203e-02,\n",
       "        -7.36535604e-02,  6.97391451e-02, -6.68304739e-02,\n",
       "        -7.75183019e-02, -9.00593052e-02,  8.64173628e-02,\n",
       "         9.97000679e-02,  8.45354163e-02,  9.31350206e-02,\n",
       "         9.07699672e-02,  8.51463975e-02,  1.04209125e-01,\n",
       "        -4.54125691e-02, -4.08569358e-02, -4.53050403e-02,\n",
       "        -6.24090888e-02, -5.26584066e-02, -3.25994158e-02,\n",
       "         4.96310773e-02, -1.47355889e-02,  2.57102507e-02,\n",
       "        -2.22265655e-01,  4.78469888e-02,  4.78469888e-02,\n",
       "         4.24590510e-02,  4.26906690e-02,  5.43160878e-02,\n",
       "         4.91159470e-02, -2.99747726e-02, -4.38601788e-02,\n",
       "         1.18683801e-01, -7.51079928e-02, -3.95100780e-02,\n",
       "        -9.40180610e-02, -7.36477344e-02],\n",
       "       [-5.43935775e-02, -1.17308690e-01,  6.98259303e-02,\n",
       "         7.97822849e-02, -1.00541420e-01,  4.88087664e-02,\n",
       "         9.42324331e-03,  8.40560956e-02,  5.34779060e-02,\n",
       "         1.15983458e-02, -8.85773294e-03,  1.42276846e-04,\n",
       "         5.46338551e-02, -4.12215095e-02,  1.82713028e-02,\n",
       "        -1.20234411e-02, -1.00809895e-01,  8.91107881e-02,\n",
       "         6.69110906e-02,  4.39036581e-02, -1.37332984e-01,\n",
       "        -9.89345055e-02, -1.07775672e-01, -1.00592007e-01,\n",
       "        -1.07864065e-01, -9.81377386e-02, -8.88471157e-02,\n",
       "         7.05344319e-02,  3.68078275e-02,  6.82732134e-02,\n",
       "         7.76129383e-02,  6.85509596e-02,  5.06014990e-02,\n",
       "         3.68252666e-02, -5.49626860e-02, -8.66391163e-02,\n",
       "        -2.17652388e-01,  3.55483313e-02,  3.55483313e-02,\n",
       "         4.18636054e-02,  9.11290660e-03,  5.07005111e-02,\n",
       "         5.01347902e-02,  6.97256670e-02,  6.97945487e-02,\n",
       "        -1.11430940e-01,  9.86758999e-03,  1.77979859e-02,\n",
       "         9.24994056e-02,  5.92892811e-02]])"
      ]
     },
     "execution_count": 38,
     "metadata": {},
     "output_type": "execute_result"
    }
   ],
   "source": [
    "#Some models like random forest use feature_importance, check the documentation of your model\n",
    "model.coef_"
   ]
  },
  {
   "cell_type": "code",
   "execution_count": 109,
   "id": "bb3d9950-79a3-42b0-9e11-f5b7bc000ff5",
   "metadata": {},
   "outputs": [
    {
     "data": {
      "text/plain": [
       "'2185'"
      ]
     },
     "execution_count": 109,
     "metadata": {},
     "output_type": "execute_result"
    }
   ],
   "source": [
    "#Best single predictor for HER2+\n",
    "features[np.argsort(-model.coef_[0])[0]]"
   ]
  },
  {
   "cell_type": "code",
   "execution_count": 110,
   "id": "8486034b-af35-4b19-b571-0400d4dd4a54",
   "metadata": {},
   "outputs": [
    {
     "data": {
      "text/plain": [
       "'696'"
      ]
     },
     "execution_count": 110,
     "metadata": {},
     "output_type": "execute_result"
    }
   ],
   "source": [
    "#Best single predictor for HR+\n",
    "features[np.argsort(-model.coef_[1])[0]]"
   ]
  },
  {
   "cell_type": "code",
   "execution_count": 111,
   "id": "f86935d7-b288-4cef-b3e6-1b78e86d9a27",
   "metadata": {},
   "outputs": [
    {
     "data": {
      "text/plain": [
       "'2751'"
      ]
     },
     "execution_count": 111,
     "metadata": {},
     "output_type": "execute_result"
    }
   ],
   "source": [
    "#Best single predictor for Triple Neg\n",
    "features[np.argsort(-model.coef_[2])[0]]"
   ]
  },
  {
   "cell_type": "code",
   "execution_count": 95,
   "id": "bc6bf362-d20f-48b6-80a5-8f577accd89f",
   "metadata": {},
   "outputs": [
    {
     "data": {
      "text/html": [
       "<style>#sk-container-id-11 {color: black;}#sk-container-id-11 pre{padding: 0;}#sk-container-id-11 div.sk-toggleable {background-color: white;}#sk-container-id-11 label.sk-toggleable__label {cursor: pointer;display: block;width: 100%;margin-bottom: 0;padding: 0.3em;box-sizing: border-box;text-align: center;}#sk-container-id-11 label.sk-toggleable__label-arrow:before {content: \"▸\";float: left;margin-right: 0.25em;color: #696969;}#sk-container-id-11 label.sk-toggleable__label-arrow:hover:before {color: black;}#sk-container-id-11 div.sk-estimator:hover label.sk-toggleable__label-arrow:before {color: black;}#sk-container-id-11 div.sk-toggleable__content {max-height: 0;max-width: 0;overflow: hidden;text-align: left;background-color: #f0f8ff;}#sk-container-id-11 div.sk-toggleable__content pre {margin: 0.2em;color: black;border-radius: 0.25em;background-color: #f0f8ff;}#sk-container-id-11 input.sk-toggleable__control:checked~div.sk-toggleable__content {max-height: 200px;max-width: 100%;overflow: auto;}#sk-container-id-11 input.sk-toggleable__control:checked~label.sk-toggleable__label-arrow:before {content: \"▾\";}#sk-container-id-11 div.sk-estimator input.sk-toggleable__control:checked~label.sk-toggleable__label {background-color: #d4ebff;}#sk-container-id-11 div.sk-label input.sk-toggleable__control:checked~label.sk-toggleable__label {background-color: #d4ebff;}#sk-container-id-11 input.sk-hidden--visually {border: 0;clip: rect(1px 1px 1px 1px);clip: rect(1px, 1px, 1px, 1px);height: 1px;margin: -1px;overflow: hidden;padding: 0;position: absolute;width: 1px;}#sk-container-id-11 div.sk-estimator {font-family: monospace;background-color: #f0f8ff;border: 1px dotted black;border-radius: 0.25em;box-sizing: border-box;margin-bottom: 0.5em;}#sk-container-id-11 div.sk-estimator:hover {background-color: #d4ebff;}#sk-container-id-11 div.sk-parallel-item::after {content: \"\";width: 100%;border-bottom: 1px solid gray;flex-grow: 1;}#sk-container-id-11 div.sk-label:hover label.sk-toggleable__label {background-color: #d4ebff;}#sk-container-id-11 div.sk-serial::before {content: \"\";position: absolute;border-left: 1px solid gray;box-sizing: border-box;top: 0;bottom: 0;left: 50%;z-index: 0;}#sk-container-id-11 div.sk-serial {display: flex;flex-direction: column;align-items: center;background-color: white;padding-right: 0.2em;padding-left: 0.2em;position: relative;}#sk-container-id-11 div.sk-item {position: relative;z-index: 1;}#sk-container-id-11 div.sk-parallel {display: flex;align-items: stretch;justify-content: center;background-color: white;position: relative;}#sk-container-id-11 div.sk-item::before, #sk-container-id-11 div.sk-parallel-item::before {content: \"\";position: absolute;border-left: 1px solid gray;box-sizing: border-box;top: 0;bottom: 0;left: 50%;z-index: -1;}#sk-container-id-11 div.sk-parallel-item {display: flex;flex-direction: column;z-index: 1;position: relative;background-color: white;}#sk-container-id-11 div.sk-parallel-item:first-child::after {align-self: flex-end;width: 50%;}#sk-container-id-11 div.sk-parallel-item:last-child::after {align-self: flex-start;width: 50%;}#sk-container-id-11 div.sk-parallel-item:only-child::after {width: 0;}#sk-container-id-11 div.sk-dashed-wrapped {border: 1px dashed gray;margin: 0 0.4em 0.5em 0.4em;box-sizing: border-box;padding-bottom: 0.4em;background-color: white;}#sk-container-id-11 div.sk-label label {font-family: monospace;font-weight: bold;display: inline-block;line-height: 1.2em;}#sk-container-id-11 div.sk-label-container {text-align: center;}#sk-container-id-11 div.sk-container {/* jupyter's `normalize.less` sets `[hidden] { display: none; }` but bootstrap.min.css set `[hidden] { display: none !important; }` so we also need the `!important` here to be able to override the default hidden behavior on the sphinx rendered scikit-learn.org. See: https://github.com/scikit-learn/scikit-learn/issues/21755 */display: inline-block !important;position: relative;}#sk-container-id-11 div.sk-text-repr-fallback {display: none;}</style><div id=\"sk-container-id-11\" class=\"sk-top-container\"><div class=\"sk-text-repr-fallback\"><pre>LinearSVC(C=0.01, dual=&#x27;auto&#x27;, random_state=0)</pre><b>In a Jupyter environment, please rerun this cell to show the HTML representation or trust the notebook. <br />On GitHub, the HTML representation is unable to render, please try loading this page with nbviewer.org.</b></div><div class=\"sk-container\" hidden><div class=\"sk-item\"><div class=\"sk-estimator sk-toggleable\"><input class=\"sk-toggleable__control sk-hidden--visually\" id=\"sk-estimator-id-38\" type=\"checkbox\" checked><label for=\"sk-estimator-id-38\" class=\"sk-toggleable__label sk-toggleable__label-arrow\">LinearSVC</label><div class=\"sk-toggleable__content\"><pre>LinearSVC(C=0.01, dual=&#x27;auto&#x27;, random_state=0)</pre></div></div></div></div></div>"
      ],
      "text/plain": [
       "LinearSVC(C=0.01, dual='auto', random_state=0)"
      ]
     },
     "execution_count": 95,
     "metadata": {},
     "output_type": "execute_result"
    }
   ],
   "source": [
    "model.fit(x_important,y)"
   ]
  },
  {
   "cell_type": "code",
   "execution_count": 96,
   "id": "c4ac0909-789b-4203-b8b2-bb2117943f81",
   "metadata": {},
   "outputs": [
    {
     "data": {
      "text/plain": [
       "array([[-3.60265740e-02,  4.07289563e-03, -3.57331702e-02,\n",
       "        -1.05797825e-01, -1.80825782e-02, -3.76751592e-02,\n",
       "         6.16866168e-02, -2.80590687e-02,  2.53555393e-02,\n",
       "         4.50230494e-02,  8.24920314e-02,  7.55334649e-02,\n",
       "         1.88096032e-02,  2.57648972e-02, -9.89672790e-02,\n",
       "        -4.93932874e-02, -4.64777151e-02, -4.52202374e-02,\n",
       "         9.18975365e-03,  6.31264638e-02,  1.81175289e-02,\n",
       "        -3.07126606e-02,  1.13557042e-02,  6.80759015e-03,\n",
       "         7.50536708e-03,  5.15906733e-02, -1.02787134e-01,\n",
       "        -1.79119632e-02,  9.37351803e-02, -1.39108482e-02,\n",
       "        -1.17380889e-02, -1.43222897e-02, -8.38964225e-03,\n",
       "        -5.19998540e-02,  7.95759858e-02,  6.50563494e-02,\n",
       "         3.57767726e-01, -4.24309793e-02, -4.24309793e-02,\n",
       "        -5.39294953e-02, -6.11364324e-02, -8.21541331e-02,\n",
       "        -7.44578737e-02, -6.23290702e-02, -3.57139638e-02,\n",
       "        -4.09742659e-03,  3.69643053e-02,  1.48609878e-01,\n",
       "         6.69270933e-03, -2.93646164e-02],\n",
       "       [ 1.18477943e-01,  5.51625511e-02, -6.12943639e-02,\n",
       "        -2.77968345e-02,  1.51679606e-01, -7.77235695e-02,\n",
       "        -4.09941087e-02, -8.11587987e-02, -8.48720364e-02,\n",
       "        -5.49389559e-02, -6.58828901e-02, -5.83113732e-02,\n",
       "        -3.02535938e-03,  1.09254758e-01,  6.55932203e-02,\n",
       "        -7.36535604e-02,  6.97391451e-02, -6.68304739e-02,\n",
       "        -7.75183019e-02, -9.00593052e-02,  8.64173628e-02,\n",
       "         9.97000679e-02,  8.45354163e-02,  9.31350206e-02,\n",
       "         9.07699672e-02,  8.51463975e-02,  1.04209125e-01,\n",
       "        -4.54125691e-02, -4.08569358e-02, -4.53050403e-02,\n",
       "        -6.24090888e-02, -5.26584066e-02, -3.25994158e-02,\n",
       "         4.96310773e-02, -1.47355889e-02,  2.57102507e-02,\n",
       "        -2.22265655e-01,  4.78469888e-02,  4.78469888e-02,\n",
       "         4.24590510e-02,  4.26906690e-02,  5.43160878e-02,\n",
       "         4.91159470e-02, -2.99747726e-02, -4.38601788e-02,\n",
       "         1.18683801e-01, -7.51079928e-02, -3.95100780e-02,\n",
       "        -9.40180610e-02, -7.36477344e-02],\n",
       "       [-5.43935775e-02, -1.17308690e-01,  6.98259303e-02,\n",
       "         7.97822849e-02, -1.00541420e-01,  4.88087664e-02,\n",
       "         9.42324331e-03,  8.40560956e-02,  5.34779060e-02,\n",
       "         1.15983458e-02, -8.85773294e-03,  1.42276846e-04,\n",
       "         5.46338551e-02, -4.12215095e-02,  1.82713028e-02,\n",
       "        -1.20234411e-02, -1.00809895e-01,  8.91107881e-02,\n",
       "         6.69110906e-02,  4.39036581e-02, -1.37332984e-01,\n",
       "        -9.89345055e-02, -1.07775672e-01, -1.00592007e-01,\n",
       "        -1.07864065e-01, -9.81377386e-02, -8.88471157e-02,\n",
       "         7.05344319e-02,  3.68078275e-02,  6.82732134e-02,\n",
       "         7.76129383e-02,  6.85509596e-02,  5.06014990e-02,\n",
       "         3.68252666e-02, -5.49626860e-02, -8.66391163e-02,\n",
       "        -2.17652388e-01,  3.55483313e-02,  3.55483313e-02,\n",
       "         4.18636054e-02,  9.11290660e-03,  5.07005111e-02,\n",
       "         5.01347902e-02,  6.97256670e-02,  6.97945487e-02,\n",
       "        -1.11430940e-01,  9.86758999e-03,  1.77979859e-02,\n",
       "         9.24994056e-02,  5.92892811e-02]])"
      ]
     },
     "execution_count": 96,
     "metadata": {},
     "output_type": "execute_result"
    }
   ],
   "source": [
    "model.coef_"
   ]
  },
  {
   "cell_type": "code",
   "execution_count": 80,
   "id": "8291cd8f-9abf-40de-a492-5ddcdbf093d9",
   "metadata": {},
   "outputs": [],
   "source": [
    "x_important = x[['42', '193', '231', '487', '696', '747', '763', '766', '792', '852',\n",
    "       '855', '856', '1010', '1036', '1092', '1144', '1244', '1560', '1563',\n",
    "       '1570', '1657', '1664', '1673', '1678', '1679', '1882', '1974', '2018',\n",
    "       '2022', '2024', '2025', '2027', '2028', '2057', '2114', '2127', '2185',\n",
    "       '2207', '2208', '2211', '2212', '2214', '2215', '2219', '2516', '2548',\n",
    "       '2663', '2743', '2751', '2761']]"
   ]
  },
  {
   "cell_type": "code",
   "execution_count": 45,
   "id": "18370668-518c-482f-ad93-b94a1c45ef38",
   "metadata": {},
   "outputs": [],
   "source": [
    "with open('linearSVC.pickle', 'wb') as f:\n",
    "    pickle.dump(search, f)"
   ]
  },
  {
   "cell_type": "code",
   "execution_count": 46,
   "id": "04fed079-3427-497a-b0af-8e679654a967",
   "metadata": {},
   "outputs": [
    {
     "data": {
      "text/html": [
       "<style>#sk-container-id-6 {color: black;}#sk-container-id-6 pre{padding: 0;}#sk-container-id-6 div.sk-toggleable {background-color: white;}#sk-container-id-6 label.sk-toggleable__label {cursor: pointer;display: block;width: 100%;margin-bottom: 0;padding: 0.3em;box-sizing: border-box;text-align: center;}#sk-container-id-6 label.sk-toggleable__label-arrow:before {content: \"▸\";float: left;margin-right: 0.25em;color: #696969;}#sk-container-id-6 label.sk-toggleable__label-arrow:hover:before {color: black;}#sk-container-id-6 div.sk-estimator:hover label.sk-toggleable__label-arrow:before {color: black;}#sk-container-id-6 div.sk-toggleable__content {max-height: 0;max-width: 0;overflow: hidden;text-align: left;background-color: #f0f8ff;}#sk-container-id-6 div.sk-toggleable__content pre {margin: 0.2em;color: black;border-radius: 0.25em;background-color: #f0f8ff;}#sk-container-id-6 input.sk-toggleable__control:checked~div.sk-toggleable__content {max-height: 200px;max-width: 100%;overflow: auto;}#sk-container-id-6 input.sk-toggleable__control:checked~label.sk-toggleable__label-arrow:before {content: \"▾\";}#sk-container-id-6 div.sk-estimator input.sk-toggleable__control:checked~label.sk-toggleable__label {background-color: #d4ebff;}#sk-container-id-6 div.sk-label input.sk-toggleable__control:checked~label.sk-toggleable__label {background-color: #d4ebff;}#sk-container-id-6 input.sk-hidden--visually {border: 0;clip: rect(1px 1px 1px 1px);clip: rect(1px, 1px, 1px, 1px);height: 1px;margin: -1px;overflow: hidden;padding: 0;position: absolute;width: 1px;}#sk-container-id-6 div.sk-estimator {font-family: monospace;background-color: #f0f8ff;border: 1px dotted black;border-radius: 0.25em;box-sizing: border-box;margin-bottom: 0.5em;}#sk-container-id-6 div.sk-estimator:hover {background-color: #d4ebff;}#sk-container-id-6 div.sk-parallel-item::after {content: \"\";width: 100%;border-bottom: 1px solid gray;flex-grow: 1;}#sk-container-id-6 div.sk-label:hover label.sk-toggleable__label {background-color: #d4ebff;}#sk-container-id-6 div.sk-serial::before {content: \"\";position: absolute;border-left: 1px solid gray;box-sizing: border-box;top: 0;bottom: 0;left: 50%;z-index: 0;}#sk-container-id-6 div.sk-serial {display: flex;flex-direction: column;align-items: center;background-color: white;padding-right: 0.2em;padding-left: 0.2em;position: relative;}#sk-container-id-6 div.sk-item {position: relative;z-index: 1;}#sk-container-id-6 div.sk-parallel {display: flex;align-items: stretch;justify-content: center;background-color: white;position: relative;}#sk-container-id-6 div.sk-item::before, #sk-container-id-6 div.sk-parallel-item::before {content: \"\";position: absolute;border-left: 1px solid gray;box-sizing: border-box;top: 0;bottom: 0;left: 50%;z-index: -1;}#sk-container-id-6 div.sk-parallel-item {display: flex;flex-direction: column;z-index: 1;position: relative;background-color: white;}#sk-container-id-6 div.sk-parallel-item:first-child::after {align-self: flex-end;width: 50%;}#sk-container-id-6 div.sk-parallel-item:last-child::after {align-self: flex-start;width: 50%;}#sk-container-id-6 div.sk-parallel-item:only-child::after {width: 0;}#sk-container-id-6 div.sk-dashed-wrapped {border: 1px dashed gray;margin: 0 0.4em 0.5em 0.4em;box-sizing: border-box;padding-bottom: 0.4em;background-color: white;}#sk-container-id-6 div.sk-label label {font-family: monospace;font-weight: bold;display: inline-block;line-height: 1.2em;}#sk-container-id-6 div.sk-label-container {text-align: center;}#sk-container-id-6 div.sk-container {/* jupyter's `normalize.less` sets `[hidden] { display: none; }` but bootstrap.min.css set `[hidden] { display: none !important; }` so we also need the `!important` here to be able to override the default hidden behavior on the sphinx rendered scikit-learn.org. See: https://github.com/scikit-learn/scikit-learn/issues/21755 */display: inline-block !important;position: relative;}#sk-container-id-6 div.sk-text-repr-fallback {display: none;}</style><div id=\"sk-container-id-6\" class=\"sk-top-container\"><div class=\"sk-text-repr-fallback\"><pre>GridSearchCV(cv=StratifiedKFold(n_splits=5, random_state=99, shuffle=True),\n",
       "             estimator=Pipeline(steps=[(&#x27;feat_sel&#x27;,\n",
       "                                        RFE(estimator=LinearSVC(C=0.01,\n",
       "                                                                dual=&#x27;auto&#x27;,\n",
       "                                                                random_state=0),\n",
       "                                            step=100)),\n",
       "                                       (&#x27;model&#x27;,\n",
       "                                        LinearSVC(dual=&#x27;auto&#x27;,\n",
       "                                                  random_state=0))]),\n",
       "             n_jobs=-1,\n",
       "             param_grid={&#x27;feat_sel__n_features_to_select&#x27;: [50, 75, 100],\n",
       "                         &#x27;model__C&#x27;: [0.01, 0.05, 0.1]})</pre><b>In a Jupyter environment, please rerun this cell to show the HTML representation or trust the notebook. <br />On GitHub, the HTML representation is unable to render, please try loading this page with nbviewer.org.</b></div><div class=\"sk-container\" hidden><div class=\"sk-item sk-dashed-wrapped\"><div class=\"sk-label-container\"><div class=\"sk-label sk-toggleable\"><input class=\"sk-toggleable__control sk-hidden--visually\" id=\"sk-estimator-id-24\" type=\"checkbox\" ><label for=\"sk-estimator-id-24\" class=\"sk-toggleable__label sk-toggleable__label-arrow\">GridSearchCV</label><div class=\"sk-toggleable__content\"><pre>GridSearchCV(cv=StratifiedKFold(n_splits=5, random_state=99, shuffle=True),\n",
       "             estimator=Pipeline(steps=[(&#x27;feat_sel&#x27;,\n",
       "                                        RFE(estimator=LinearSVC(C=0.01,\n",
       "                                                                dual=&#x27;auto&#x27;,\n",
       "                                                                random_state=0),\n",
       "                                            step=100)),\n",
       "                                       (&#x27;model&#x27;,\n",
       "                                        LinearSVC(dual=&#x27;auto&#x27;,\n",
       "                                                  random_state=0))]),\n",
       "             n_jobs=-1,\n",
       "             param_grid={&#x27;feat_sel__n_features_to_select&#x27;: [50, 75, 100],\n",
       "                         &#x27;model__C&#x27;: [0.01, 0.05, 0.1]})</pre></div></div></div><div class=\"sk-parallel\"><div class=\"sk-parallel-item\"><div class=\"sk-item\"><div class=\"sk-label-container\"><div class=\"sk-label sk-toggleable\"><input class=\"sk-toggleable__control sk-hidden--visually\" id=\"sk-estimator-id-25\" type=\"checkbox\" ><label for=\"sk-estimator-id-25\" class=\"sk-toggleable__label sk-toggleable__label-arrow\">estimator: Pipeline</label><div class=\"sk-toggleable__content\"><pre>Pipeline(steps=[(&#x27;feat_sel&#x27;,\n",
       "                 RFE(estimator=LinearSVC(C=0.01, dual=&#x27;auto&#x27;, random_state=0),\n",
       "                     step=100)),\n",
       "                (&#x27;model&#x27;, LinearSVC(dual=&#x27;auto&#x27;, random_state=0))])</pre></div></div></div><div class=\"sk-serial\"><div class=\"sk-item\"><div class=\"sk-serial\"><div class=\"sk-item sk-dashed-wrapped\"><div class=\"sk-label-container\"><div class=\"sk-label sk-toggleable\"><input class=\"sk-toggleable__control sk-hidden--visually\" id=\"sk-estimator-id-26\" type=\"checkbox\" ><label for=\"sk-estimator-id-26\" class=\"sk-toggleable__label sk-toggleable__label-arrow\">feat_sel: RFE</label><div class=\"sk-toggleable__content\"><pre>RFE(estimator=LinearSVC(C=0.01, dual=&#x27;auto&#x27;, random_state=0), step=100)</pre></div></div></div><div class=\"sk-parallel\"><div class=\"sk-parallel-item\"><div class=\"sk-item\"><div class=\"sk-label-container\"><div class=\"sk-label sk-toggleable\"><input class=\"sk-toggleable__control sk-hidden--visually\" id=\"sk-estimator-id-27\" type=\"checkbox\" ><label for=\"sk-estimator-id-27\" class=\"sk-toggleable__label sk-toggleable__label-arrow\">estimator: LinearSVC</label><div class=\"sk-toggleable__content\"><pre>LinearSVC(C=0.01, dual=&#x27;auto&#x27;, random_state=0)</pre></div></div></div><div class=\"sk-serial\"><div class=\"sk-item\"><div class=\"sk-estimator sk-toggleable\"><input class=\"sk-toggleable__control sk-hidden--visually\" id=\"sk-estimator-id-28\" type=\"checkbox\" ><label for=\"sk-estimator-id-28\" class=\"sk-toggleable__label sk-toggleable__label-arrow\">LinearSVC</label><div class=\"sk-toggleable__content\"><pre>LinearSVC(C=0.01, dual=&#x27;auto&#x27;, random_state=0)</pre></div></div></div></div></div></div></div></div><div class=\"sk-item\"><div class=\"sk-estimator sk-toggleable\"><input class=\"sk-toggleable__control sk-hidden--visually\" id=\"sk-estimator-id-29\" type=\"checkbox\" ><label for=\"sk-estimator-id-29\" class=\"sk-toggleable__label sk-toggleable__label-arrow\">LinearSVC</label><div class=\"sk-toggleable__content\"><pre>LinearSVC(dual=&#x27;auto&#x27;, random_state=0)</pre></div></div></div></div></div></div></div></div></div></div></div></div>"
      ],
      "text/plain": [
       "GridSearchCV(cv=StratifiedKFold(n_splits=5, random_state=99, shuffle=True),\n",
       "             estimator=Pipeline(steps=[('feat_sel',\n",
       "                                        RFE(estimator=LinearSVC(C=0.01,\n",
       "                                                                dual='auto',\n",
       "                                                                random_state=0),\n",
       "                                            step=100)),\n",
       "                                       ('model',\n",
       "                                        LinearSVC(dual='auto',\n",
       "                                                  random_state=0))]),\n",
       "             n_jobs=-1,\n",
       "             param_grid={'feat_sel__n_features_to_select': [50, 75, 100],\n",
       "                         'model__C': [0.01, 0.05, 0.1]})"
      ]
     },
     "execution_count": 46,
     "metadata": {},
     "output_type": "execute_result"
    }
   ],
   "source": [
    "search"
   ]
  },
  {
   "cell_type": "code",
   "execution_count": 48,
   "id": "9d0cee16-13e6-4705-b869-a25ce222a8de",
   "metadata": {},
   "outputs": [],
   "source": [
    "with open('LinearSVC_score.pickle', 'wb') as f:\n",
    "    pickle.dump(test_score_nested, f)"
   ]
  },
  {
   "cell_type": "code",
   "execution_count": 10,
   "id": "d79c0c8b-c58d-4378-9777-e9373aef79ba",
   "metadata": {},
   "outputs": [],
   "source": [
    "with open('LDA_score.pickle', 'rb') as f:\n",
    "    lda_score = pickle.load(f)"
   ]
  },
  {
   "cell_type": "code",
   "execution_count": 3,
   "id": "13208d76-b589-4a58-aa49-36e2ee21b93c",
   "metadata": {},
   "outputs": [],
   "source": [
    "with open('LinearSVC_score.pickle', 'rb') as f:\n",
    "    lsvc_score = pickle.load(f)"
   ]
  },
  {
   "cell_type": "code",
   "execution_count": 9,
   "id": "d8401335-c0f6-4565-a5c6-4a08086d1b11",
   "metadata": {},
   "outputs": [
    {
     "data": {
      "text/plain": [
       "0.8092751039809863"
      ]
     },
     "execution_count": 9,
     "metadata": {},
     "output_type": "execute_result"
    }
   ],
   "source": [
    "import statistics\n",
    "statistics.mean(lsvc_score)"
   ]
  },
  {
   "cell_type": "code",
   "execution_count": 13,
   "id": "86fb0f4b-3d62-499e-86bf-9c0528344b6d",
   "metadata": {},
   "outputs": [
    {
     "data": {
      "text/plain": [
       "0    0.611384\n",
       "dtype: float64"
      ]
     },
     "execution_count": 13,
     "metadata": {},
     "output_type": "execute_result"
    }
   ],
   "source": [
    "lda_score.mean()"
   ]
  },
  {
   "cell_type": "code",
   "execution_count": 21,
   "id": "44173363-5226-4a48-bb06-c7fd1788ea6e",
   "metadata": {},
   "outputs": [
    {
     "ename": "NameError",
     "evalue": "name 'lda_score' is not defined",
     "output_type": "error",
     "traceback": [
      "\u001b[0;31m---------------------------------------------------------------------------\u001b[0m",
      "\u001b[0;31mNameError\u001b[0m                                 Traceback (most recent call last)",
      "Cell \u001b[0;32mIn[21], line 1\u001b[0m\n\u001b[0;32m----> 1\u001b[0m lda_score \u001b[38;5;241m=\u001b[39m \u001b[43mlda_score\u001b[49m\u001b[38;5;241m.\u001b[39mvalues\n",
      "\u001b[0;31mNameError\u001b[0m: name 'lda_score' is not defined"
     ]
    }
   ],
   "source": [
    "lda_score = lda_score.values"
   ]
  },
  {
   "cell_type": "code",
   "execution_count": 72,
   "id": "e5a31c88-7d3b-47ca-90bd-5066ce692f21",
   "metadata": {},
   "outputs": [],
   "source": [
    "lda_score = lda_score.flatten()"
   ]
  },
  {
   "cell_type": "code",
   "execution_count": 73,
   "id": "441f14c9-04c8-4e84-b36a-52de79e5e3fa",
   "metadata": {},
   "outputs": [],
   "source": [
    "lsvc_score = scores"
   ]
  },
  {
   "cell_type": "code",
   "execution_count": 22,
   "id": "afcdca4d-898e-4b1f-92c0-a6d6dd87aa33",
   "metadata": {},
   "outputs": [
    {
     "ename": "AttributeError",
     "evalue": "'list' object has no attribute 'values'",
     "output_type": "error",
     "traceback": [
      "\u001b[0;31m---------------------------------------------------------------------------\u001b[0m",
      "\u001b[0;31mAttributeError\u001b[0m                            Traceback (most recent call last)",
      "Cell \u001b[0;32mIn[22], line 1\u001b[0m\n\u001b[0;32m----> 1\u001b[0m lsvc_score\u001b[38;5;241m=\u001b[39m\u001b[43mlsvc_score\u001b[49m\u001b[38;5;241;43m.\u001b[39;49m\u001b[43mvalues\u001b[49m\n",
      "\u001b[0;31mAttributeError\u001b[0m: 'list' object has no attribute 'values'"
     ]
    }
   ],
   "source": [
    "lsvc_score=lsvc_score.values"
   ]
  },
  {
   "cell_type": "code",
   "execution_count": 23,
   "id": "ac3eb776-1b1d-4c37-972a-63c0f0a22430",
   "metadata": {},
   "outputs": [
    {
     "ename": "AttributeError",
     "evalue": "'list' object has no attribute 'flatten'",
     "output_type": "error",
     "traceback": [
      "\u001b[0;31m---------------------------------------------------------------------------\u001b[0m",
      "\u001b[0;31mAttributeError\u001b[0m                            Traceback (most recent call last)",
      "Cell \u001b[0;32mIn[23], line 1\u001b[0m\n\u001b[0;32m----> 1\u001b[0m lsvc_score \u001b[38;5;241m=\u001b[39m \u001b[43mlsvc_score\u001b[49m\u001b[38;5;241;43m.\u001b[39;49m\u001b[43mflatten\u001b[49m()\n",
      "\u001b[0;31mAttributeError\u001b[0m: 'list' object has no attribute 'flatten'"
     ]
    }
   ],
   "source": [
    "lsvc_score = lsvc_score.flatten()"
   ]
  },
  {
   "cell_type": "code",
   "execution_count": 30,
   "id": "f742869f-a587-45e9-83b3-b28a1aab5a1b",
   "metadata": {},
   "outputs": [],
   "source": [
    "with open('fLinearSVC_score.pickle', 'wb') as f:\n",
    "    pickle.dump(scores, f)"
   ]
  },
  {
   "cell_type": "code",
   "execution_count": null,
   "id": "226be5c0-43cd-4383-83a9-c395e3747f3a",
   "metadata": {},
   "outputs": [],
   "source": [
    "with open('fLinearSVC_score.pickle', 'rb') as f:\n",
    "    flsvc_score = pickle.load(f)"
   ]
  },
  {
   "cell_type": "code",
   "execution_count": 25,
   "id": "ba1a8692-2d7a-4a8e-ad90-65a78c41b5ce",
   "metadata": {},
   "outputs": [],
   "source": [
    "f_score = scores.values\n",
    "f_score = f_score.flatten()"
   ]
  },
  {
   "cell_type": "code",
   "execution_count": 77,
   "id": "157ba3e6-be1f-43cc-aafb-3a8545961726",
   "metadata": {},
   "outputs": [
    {
     "data": {
      "text/plain": [
       "{'whiskers': [<matplotlib.lines.Line2D at 0x7f2eb47aec70>,\n",
       "  <matplotlib.lines.Line2D at 0x7f2eb47ae6d0>,\n",
       "  <matplotlib.lines.Line2D at 0x7f2eb34ef790>,\n",
       "  <matplotlib.lines.Line2D at 0x7f2eb34ef2b0>],\n",
       " 'caps': [<matplotlib.lines.Line2D at 0x7f2eb47b3f40>,\n",
       "  <matplotlib.lines.Line2D at 0x7f2eb4791280>,\n",
       "  <matplotlib.lines.Line2D at 0x7f2eb34effa0>,\n",
       "  <matplotlib.lines.Line2D at 0x7f2eb34ef700>],\n",
       " 'boxes': [<matplotlib.lines.Line2D at 0x7f2eb47aea00>,\n",
       "  <matplotlib.lines.Line2D at 0x7f2eb34efd00>],\n",
       " 'medians': [<matplotlib.lines.Line2D at 0x7f2eb47912b0>,\n",
       "  <matplotlib.lines.Line2D at 0x7f2eb3efaf40>],\n",
       " 'fliers': [<matplotlib.lines.Line2D at 0x7f2eb4791250>,\n",
       "  <matplotlib.lines.Line2D at 0x7f2eb3efa580>],\n",
       " 'means': []}"
      ]
     },
     "execution_count": 77,
     "metadata": {},
     "output_type": "execute_result"
    },
    {
     "data": {
      "image/png": "[encoded data removed]",
      "text/plain": [
       "<Figure size 640x480 with 1 Axes>"
      ]
     },
     "metadata": {},
     "output_type": "display_data"
    }
   ],
   "source": [
    "#Comparison of estimated model performance\n",
    "fig,ax = plt.subplots()\n",
    "ax.boxplot([lsvc_score,lda_score],labels=['LinearSVC','LDA'])"
   ]
  },
  {
   "cell_type": "code",
   "execution_count": 27,
   "id": "053c6f81-e956-48b6-982a-6304b92693e0",
   "metadata": {},
   "outputs": [
    {
     "data": {
      "text/plain": [
       "{'whiskers': [<matplotlib.lines.Line2D at 0x7f0dc444c250>,\n",
       "  <matplotlib.lines.Line2D at 0x7f0dc444c4f0>,\n",
       "  <matplotlib.lines.Line2D at 0x7f0dc44573a0>,\n",
       "  <matplotlib.lines.Line2D at 0x7f0dc4457640>],\n",
       " 'caps': [<matplotlib.lines.Line2D at 0x7f0dc444c640>,\n",
       "  <matplotlib.lines.Line2D at 0x7f0dc444c940>,\n",
       "  <matplotlib.lines.Line2D at 0x7f0dc44578e0>,\n",
       "  <matplotlib.lines.Line2D at 0x7f0dc4457b80>],\n",
       " 'boxes': [<matplotlib.lines.Line2D at 0x7f0dc4442f40>,\n",
       "  <matplotlib.lines.Line2D at 0x7f0dc4457100>],\n",
       " 'medians': [<matplotlib.lines.Line2D at 0x7f0dc444cbb0>,\n",
       "  <matplotlib.lines.Line2D at 0x7f0dc4457e20>],\n",
       " 'fliers': [<matplotlib.lines.Line2D at 0x7f0dc444c820>,\n",
       "  <matplotlib.lines.Line2D at 0x7f0dc4467100>],\n",
       " 'means': []}"
      ]
     },
     "execution_count": 27,
     "metadata": {},
     "output_type": "execute_result"
    },
    {
     "data": {
      "image/png": "[encoded data removed]",
      "text/plain": [
       "<Figure size 640x480 with 1 Axes>"
      ]
     },
     "metadata": {},
     "output_type": "display_data"
    },
    {
     "name": "stderr",
     "output_type": "stream",
     "text": [
      "/home/trl293/.local/lib/python3.8/site-packages/sklearn/feature_selection/_univariate_selection.py:112: UserWarning: Features [2699] are constant.\n",
      "  warnings.warn(\"Features %s are constant.\" % constant_features_idx, UserWarning)\n",
      "/home/trl293/.local/lib/python3.8/site-packages/sklearn/feature_selection/_univariate_selection.py:113: RuntimeWarning: invalid value encountered in divide\n",
      "  f = msb / msw\n",
      "/home/trl293/.local/lib/python3.8/site-packages/sklearn/feature_selection/_univariate_selection.py:112: UserWarning: Features [2699] are constant.\n",
      "  warnings.warn(\"Features %s are constant.\" % constant_features_idx, UserWarning)\n",
      "/home/trl293/.local/lib/python3.8/site-packages/sklearn/feature_selection/_univariate_selection.py:113: RuntimeWarning: invalid value encountered in divide\n",
      "  f = msb / msw\n",
      "/home/trl293/.local/lib/python3.8/site-packages/sklearn/feature_selection/_univariate_selection.py:112: UserWarning: Features [2699] are constant.\n",
      "  warnings.warn(\"Features %s are constant.\" % constant_features_idx, UserWarning)\n",
      "/home/trl293/.local/lib/python3.8/site-packages/sklearn/feature_selection/_univariate_selection.py:112: UserWarning: Features [2699] are constant.\n",
      "  warnings.warn(\"Features %s are constant.\" % constant_features_idx, UserWarning)\n",
      "/home/trl293/.local/lib/python3.8/site-packages/sklearn/feature_selection/_univariate_selection.py:113: RuntimeWarning: invalid value encountered in divide\n",
      "  f = msb / msw\n",
      "/home/trl293/.local/lib/python3.8/site-packages/sklearn/feature_selection/_univariate_selection.py:112: UserWarning: Features [2699] are constant.\n",
      "  warnings.warn(\"Features %s are constant.\" % constant_features_idx, UserWarning)\n",
      "/home/trl293/.local/lib/python3.8/site-packages/sklearn/feature_selection/_univariate_selection.py:113: RuntimeWarning: invalid value encountered in divide\n",
      "  f = msb / msw\n",
      "/home/trl293/.local/lib/python3.8/site-packages/sklearn/feature_selection/_univariate_selection.py:112: UserWarning: Features [2699] are constant.\n",
      "  warnings.warn(\"Features %s are constant.\" % constant_features_idx, UserWarning)\n",
      "/home/trl293/.local/lib/python3.8/site-packages/sklearn/feature_selection/_univariate_selection.py:113: RuntimeWarning: invalid value encountered in divide\n",
      "  f = msb / msw\n",
      "/home/trl293/.local/lib/python3.8/site-packages/sklearn/feature_selection/_univariate_selection.py:112: UserWarning: Features [2699] are constant.\n",
      "  warnings.warn(\"Features %s are constant.\" % constant_features_idx, UserWarning)\n",
      "/home/trl293/.local/lib/python3.8/site-packages/sklearn/feature_selection/_univariate_selection.py:113: RuntimeWarning: invalid value encountered in divide\n",
      "  f = msb / msw\n",
      "/home/trl293/.local/lib/python3.8/site-packages/sklearn/feature_selection/_univariate_selection.py:112: UserWarning: Features [2699] are constant.\n",
      "  warnings.warn(\"Features %s are constant.\" % constant_features_idx, UserWarning)\n",
      "/home/trl293/.local/lib/python3.8/site-packages/sklearn/feature_selection/_univariate_selection.py:113: RuntimeWarning: invalid value encountered in divide\n",
      "  f = msb / msw\n",
      "/home/trl293/.local/lib/python3.8/site-packages/sklearn/feature_selection/_univariate_selection.py:112: UserWarning: Features [2699] are constant.\n",
      "  warnings.warn(\"Features %s are constant.\" % constant_features_idx, UserWarning)\n",
      "/home/trl293/.local/lib/python3.8/site-packages/sklearn/feature_selection/_univariate_selection.py:113: RuntimeWarning: invalid value encountered in divide\n",
      "  f = msb / msw\n",
      "/home/trl293/.local/lib/python3.8/site-packages/sklearn/feature_selection/_univariate_selection.py:112: UserWarning: Features [2699] are constant.\n",
      "  warnings.warn(\"Features %s are constant.\" % constant_features_idx, UserWarning)\n",
      "/home/trl293/.local/lib/python3.8/site-packages/sklearn/feature_selection/_univariate_selection.py:113: RuntimeWarning: invalid value encountered in divide\n",
      "  f = msb / msw\n",
      "/home/trl293/.local/lib/python3.8/site-packages/sklearn/feature_selection/_univariate_selection.py:112: UserWarning: Features [2699] are constant.\n",
      "  warnings.warn(\"Features %s are constant.\" % constant_features_idx, UserWarning)\n",
      "/home/trl293/.local/lib/python3.8/site-packages/sklearn/feature_selection/_univariate_selection.py:113: RuntimeWarning: invalid value encountered in divide\n",
      "  f = msb / msw\n",
      "/home/trl293/.local/lib/python3.8/site-packages/sklearn/feature_selection/_univariate_selection.py:112: UserWarning: Features [2699] are constant.\n",
      "  warnings.warn(\"Features %s are constant.\" % constant_features_idx, UserWarning)\n",
      "/home/trl293/.local/lib/python3.8/site-packages/sklearn/feature_selection/_univariate_selection.py:112: UserWarning: Features [2699] are constant.\n",
      "  warnings.warn(\"Features %s are constant.\" % constant_features_idx, UserWarning)\n",
      "/home/trl293/.local/lib/python3.8/site-packages/sklearn/feature_selection/_univariate_selection.py:112: UserWarning: Features [2699] are constant.\n",
      "  warnings.warn(\"Features %s are constant.\" % constant_features_idx, UserWarning)\n",
      "/home/trl293/.local/lib/python3.8/site-packages/sklearn/feature_selection/_univariate_selection.py:113: RuntimeWarning: invalid value encountered in divide\n",
      "  f = msb / msw\n",
      "/home/trl293/.local/lib/python3.8/site-packages/sklearn/feature_selection/_univariate_selection.py:113: RuntimeWarning: invalid value encountered in divide\n",
      "  f = msb / msw\n",
      "/home/trl293/.local/lib/python3.8/site-packages/sklearn/feature_selection/_univariate_selection.py:112: UserWarning: Features [2699] are constant.\n",
      "  warnings.warn(\"Features %s are constant.\" % constant_features_idx, UserWarning)\n",
      "/home/trl293/.local/lib/python3.8/site-packages/sklearn/feature_selection/_univariate_selection.py:113: RuntimeWarning: invalid value encountered in divide\n",
      "  f = msb / msw\n",
      "/home/trl293/.local/lib/python3.8/site-packages/sklearn/feature_selection/_univariate_selection.py:112: UserWarning: Features [2699] are constant.\n",
      "  warnings.warn(\"Features %s are constant.\" % constant_features_idx, UserWarning)\n",
      "/home/trl293/.local/lib/python3.8/site-packages/sklearn/feature_selection/_univariate_selection.py:113: RuntimeWarning: invalid value encountered in divide\n",
      "  f = msb / msw\n",
      "/home/trl293/.local/lib/python3.8/site-packages/sklearn/feature_selection/_univariate_selection.py:112: UserWarning: Features [2699] are constant.\n",
      "  warnings.warn(\"Features %s are constant.\" % constant_features_idx, UserWarning)\n",
      "/home/trl293/.local/lib/python3.8/site-packages/sklearn/feature_selection/_univariate_selection.py:113: RuntimeWarning: invalid value encountered in divide\n",
      "  f = msb / msw\n",
      "/home/trl293/.local/lib/python3.8/site-packages/sklearn/feature_selection/_univariate_selection.py:112: UserWarning: Features [2699] are constant.\n",
      "  warnings.warn(\"Features %s are constant.\" % constant_features_idx, UserWarning)\n",
      "/home/trl293/.local/lib/python3.8/site-packages/sklearn/feature_selection/_univariate_selection.py:113: RuntimeWarning: invalid value encountered in divide\n",
      "  f = msb / msw\n"
     ]
    }
   ],
   "source": [
    "fig,ax = plt.subplots()\n",
    "ax.boxplot([lsvc_score,f_score],labels=['RFE','ftest'])"
   ]
  },
  {
   "cell_type": "code",
   "execution_count": 29,
   "id": "b070fb76-7e88-48b9-85d2-991e82cd9ef9",
   "metadata": {},
   "outputs": [
    {
     "data": {
      "image/png": "[encoded data removed]",
      "text/plain": [
       "<Figure size 640x480 with 1 Axes>"
      ]
     },
     "execution_count": 29,
     "metadata": {},
     "output_type": "execute_result"
    },
    {
     "name": "stderr",
     "output_type": "stream",
     "text": [
      "/home/trl293/.local/lib/python3.8/site-packages/sklearn/feature_selection/_univariate_selection.py:112: UserWarning: Features [2657] are constant.\n",
      "  warnings.warn(\"Features %s are constant.\" % constant_features_idx, UserWarning)\n",
      "/home/trl293/.local/lib/python3.8/site-packages/sklearn/feature_selection/_univariate_selection.py:112: UserWarning: Features [2657] are constant.\n",
      "  warnings.warn(\"Features %s are constant.\" % constant_features_idx, UserWarning)\n",
      "/home/trl293/.local/lib/python3.8/site-packages/sklearn/feature_selection/_univariate_selection.py:112: UserWarning: Features [2657] are constant.\n",
      "  warnings.warn(\"Features %s are constant.\" % constant_features_idx, UserWarning)\n",
      "/home/trl293/.local/lib/python3.8/site-packages/sklearn/feature_selection/_univariate_selection.py:113: RuntimeWarning: invalid value encountered in divide\n",
      "  f = msb / msw\n",
      "/home/trl293/.local/lib/python3.8/site-packages/sklearn/feature_selection/_univariate_selection.py:113: RuntimeWarning: invalid value encountered in divide\n",
      "  f = msb / msw\n",
      "/home/trl293/.local/lib/python3.8/site-packages/sklearn/feature_selection/_univariate_selection.py:113: RuntimeWarning: invalid value encountered in divide\n",
      "  f = msb / msw\n",
      "/home/trl293/.local/lib/python3.8/site-packages/sklearn/feature_selection/_univariate_selection.py:112: UserWarning: Features [2657] are constant.\n",
      "  warnings.warn(\"Features %s are constant.\" % constant_features_idx, UserWarning)\n",
      "/home/trl293/.local/lib/python3.8/site-packages/sklearn/feature_selection/_univariate_selection.py:113: RuntimeWarning: invalid value encountered in divide\n",
      "  f = msb / msw\n",
      "/home/trl293/.local/lib/python3.8/site-packages/sklearn/feature_selection/_univariate_selection.py:112: UserWarning: Features [2657] are constant.\n",
      "  warnings.warn(\"Features %s are constant.\" % constant_features_idx, UserWarning)\n",
      "/home/trl293/.local/lib/python3.8/site-packages/sklearn/feature_selection/_univariate_selection.py:113: RuntimeWarning: invalid value encountered in divide\n",
      "  f = msb / msw\n",
      "/home/trl293/.local/lib/python3.8/site-packages/sklearn/feature_selection/_univariate_selection.py:112: UserWarning: Features [2657] are constant.\n",
      "  warnings.warn(\"Features %s are constant.\" % constant_features_idx, UserWarning)\n",
      "/home/trl293/.local/lib/python3.8/site-packages/sklearn/feature_selection/_univariate_selection.py:113: RuntimeWarning: invalid value encountered in divide\n",
      "  f = msb / msw\n",
      "/home/trl293/.local/lib/python3.8/site-packages/sklearn/feature_selection/_univariate_selection.py:112: UserWarning: Features [2657] are constant.\n",
      "  warnings.warn(\"Features %s are constant.\" % constant_features_idx, UserWarning)\n",
      "/home/trl293/.local/lib/python3.8/site-packages/sklearn/feature_selection/_univariate_selection.py:113: RuntimeWarning: invalid value encountered in divide\n",
      "  f = msb / msw\n",
      "/home/trl293/.local/lib/python3.8/site-packages/sklearn/feature_selection/_univariate_selection.py:112: UserWarning: Features [2657] are constant.\n",
      "  warnings.warn(\"Features %s are constant.\" % constant_features_idx, UserWarning)\n",
      "/home/trl293/.local/lib/python3.8/site-packages/sklearn/feature_selection/_univariate_selection.py:113: RuntimeWarning: invalid value encountered in divide\n",
      "  f = msb / msw\n",
      "/home/trl293/.local/lib/python3.8/site-packages/sklearn/feature_selection/_univariate_selection.py:112: UserWarning: Features [2657] are constant.\n",
      "  warnings.warn(\"Features %s are constant.\" % constant_features_idx, UserWarning)\n",
      "/home/trl293/.local/lib/python3.8/site-packages/sklearn/feature_selection/_univariate_selection.py:113: RuntimeWarning: invalid value encountered in divide\n",
      "  f = msb / msw\n",
      "/home/trl293/.local/lib/python3.8/site-packages/sklearn/feature_selection/_univariate_selection.py:112: UserWarning: Features [2657] are constant.\n",
      "  warnings.warn(\"Features %s are constant.\" % constant_features_idx, UserWarning)\n",
      "/home/trl293/.local/lib/python3.8/site-packages/sklearn/feature_selection/_univariate_selection.py:113: RuntimeWarning: invalid value encountered in divide\n",
      "  f = msb / msw\n",
      "/home/trl293/.local/lib/python3.8/site-packages/sklearn/feature_selection/_univariate_selection.py:112: UserWarning: Features [2657] are constant.\n",
      "  warnings.warn(\"Features %s are constant.\" % constant_features_idx, UserWarning)\n",
      "/home/trl293/.local/lib/python3.8/site-packages/sklearn/feature_selection/_univariate_selection.py:112: UserWarning: Features [2657] are constant.\n",
      "  warnings.warn(\"Features %s are constant.\" % constant_features_idx, UserWarning)\n",
      "/home/trl293/.local/lib/python3.8/site-packages/sklearn/feature_selection/_univariate_selection.py:113: RuntimeWarning: invalid value encountered in divide\n",
      "  f = msb / msw\n",
      "/home/trl293/.local/lib/python3.8/site-packages/sklearn/feature_selection/_univariate_selection.py:112: UserWarning: Features [2657] are constant.\n",
      "  warnings.warn(\"Features %s are constant.\" % constant_features_idx, UserWarning)\n",
      "/home/trl293/.local/lib/python3.8/site-packages/sklearn/feature_selection/_univariate_selection.py:113: RuntimeWarning: invalid value encountered in divide\n",
      "  f = msb / msw\n",
      "/home/trl293/.local/lib/python3.8/site-packages/sklearn/feature_selection/_univariate_selection.py:113: RuntimeWarning: invalid value encountered in divide\n",
      "  f = msb / msw\n",
      "/home/trl293/.local/lib/python3.8/site-packages/sklearn/feature_selection/_univariate_selection.py:112: UserWarning: Features [2657] are constant.\n",
      "  warnings.warn(\"Features %s are constant.\" % constant_features_idx, UserWarning)\n",
      "/home/trl293/.local/lib/python3.8/site-packages/sklearn/feature_selection/_univariate_selection.py:113: RuntimeWarning: invalid value encountered in divide\n",
      "  f = msb / msw\n",
      "/home/trl293/.local/lib/python3.8/site-packages/sklearn/feature_selection/_univariate_selection.py:112: UserWarning: Features [2657] are constant.\n",
      "  warnings.warn(\"Features %s are constant.\" % constant_features_idx, UserWarning)\n",
      "/home/trl293/.local/lib/python3.8/site-packages/sklearn/feature_selection/_univariate_selection.py:113: RuntimeWarning: invalid value encountered in divide\n",
      "  f = msb / msw\n",
      "/home/trl293/.local/lib/python3.8/site-packages/sklearn/feature_selection/_univariate_selection.py:112: UserWarning: Features [2657] are constant.\n",
      "  warnings.warn(\"Features %s are constant.\" % constant_features_idx, UserWarning)\n",
      "/home/trl293/.local/lib/python3.8/site-packages/sklearn/feature_selection/_univariate_selection.py:113: RuntimeWarning: invalid value encountered in divide\n",
      "  f = msb / msw\n",
      "/home/trl293/.local/lib/python3.8/site-packages/sklearn/feature_selection/_univariate_selection.py:112: UserWarning: Features [2657] are constant.\n",
      "  warnings.warn(\"Features %s are constant.\" % constant_features_idx, UserWarning)\n",
      "/home/trl293/.local/lib/python3.8/site-packages/sklearn/feature_selection/_univariate_selection.py:113: RuntimeWarning: invalid value encountered in divide\n",
      "  f = msb / msw\n",
      "/home/trl293/.local/lib/python3.8/site-packages/sklearn/feature_selection/_univariate_selection.py:112: UserWarning: Features [2657] are constant.\n",
      "  warnings.warn(\"Features %s are constant.\" % constant_features_idx, UserWarning)\n",
      "/home/trl293/.local/lib/python3.8/site-packages/sklearn/feature_selection/_univariate_selection.py:113: RuntimeWarning: invalid value encountered in divide\n",
      "  f = msb / msw\n",
      "/home/trl293/.local/lib/python3.8/site-packages/sklearn/feature_selection/_univariate_selection.py:112: UserWarning: Features [2699] are constant.\n",
      "  warnings.warn(\"Features %s are constant.\" % constant_features_idx, UserWarning)\n",
      "/home/trl293/.local/lib/python3.8/site-packages/sklearn/feature_selection/_univariate_selection.py:113: RuntimeWarning: invalid value encountered in divide\n",
      "  f = msb / msw\n",
      "/home/trl293/.local/lib/python3.8/site-packages/sklearn/feature_selection/_univariate_selection.py:112: UserWarning: Features [2699] are constant.\n",
      "  warnings.warn(\"Features %s are constant.\" % constant_features_idx, UserWarning)\n",
      "/home/trl293/.local/lib/python3.8/site-packages/sklearn/feature_selection/_univariate_selection.py:113: RuntimeWarning: invalid value encountered in divide\n",
      "  f = msb / msw\n",
      "/home/trl293/.local/lib/python3.8/site-packages/sklearn/feature_selection/_univariate_selection.py:112: UserWarning: Features [2699] are constant.\n",
      "  warnings.warn(\"Features %s are constant.\" % constant_features_idx, UserWarning)\n",
      "/home/trl293/.local/lib/python3.8/site-packages/sklearn/feature_selection/_univariate_selection.py:113: RuntimeWarning: invalid value encountered in divide\n",
      "  f = msb / msw\n",
      "/home/trl293/.local/lib/python3.8/site-packages/sklearn/feature_selection/_univariate_selection.py:112: UserWarning: Features [2699] are constant.\n",
      "  warnings.warn(\"Features %s are constant.\" % constant_features_idx, UserWarning)\n",
      "/home/trl293/.local/lib/python3.8/site-packages/sklearn/feature_selection/_univariate_selection.py:113: RuntimeWarning: invalid value encountered in divide\n",
      "  f = msb / msw\n",
      "/home/trl293/.local/lib/python3.8/site-packages/sklearn/feature_selection/_univariate_selection.py:112: UserWarning: Features [2699] are constant.\n",
      "  warnings.warn(\"Features %s are constant.\" % constant_features_idx, UserWarning)\n",
      "/home/trl293/.local/lib/python3.8/site-packages/sklearn/feature_selection/_univariate_selection.py:113: RuntimeWarning: invalid value encountered in divide\n",
      "  f = msb / msw\n",
      "/home/trl293/.local/lib/python3.8/site-packages/sklearn/feature_selection/_univariate_selection.py:112: UserWarning: Features [2699] are constant.\n",
      "  warnings.warn(\"Features %s are constant.\" % constant_features_idx, UserWarning)\n",
      "/home/trl293/.local/lib/python3.8/site-packages/sklearn/feature_selection/_univariate_selection.py:113: RuntimeWarning: invalid value encountered in divide\n",
      "  f = msb / msw\n",
      "/home/trl293/.local/lib/python3.8/site-packages/sklearn/feature_selection/_univariate_selection.py:112: UserWarning: Features [2699] are constant.\n",
      "  warnings.warn(\"Features %s are constant.\" % constant_features_idx, UserWarning)\n",
      "/home/trl293/.local/lib/python3.8/site-packages/sklearn/feature_selection/_univariate_selection.py:113: RuntimeWarning: invalid value encountered in divide\n",
      "  f = msb / msw\n",
      "/home/trl293/.local/lib/python3.8/site-packages/sklearn/feature_selection/_univariate_selection.py:112: UserWarning: Features [2699] are constant.\n",
      "  warnings.warn(\"Features %s are constant.\" % constant_features_idx, UserWarning)\n",
      "/home/trl293/.local/lib/python3.8/site-packages/sklearn/feature_selection/_univariate_selection.py:113: RuntimeWarning: invalid value encountered in divide\n",
      "  f = msb / msw\n",
      "/home/trl293/.local/lib/python3.8/site-packages/sklearn/feature_selection/_univariate_selection.py:112: UserWarning: Features [2699] are constant.\n",
      "  warnings.warn(\"Features %s are constant.\" % constant_features_idx, UserWarning)\n",
      "/home/trl293/.local/lib/python3.8/site-packages/sklearn/feature_selection/_univariate_selection.py:113: RuntimeWarning: invalid value encountered in divide\n",
      "  f = msb / msw\n",
      "/home/trl293/.local/lib/python3.8/site-packages/sklearn/feature_selection/_univariate_selection.py:112: UserWarning: Features [2699] are constant.\n",
      "  warnings.warn(\"Features %s are constant.\" % constant_features_idx, UserWarning)\n",
      "/home/trl293/.local/lib/python3.8/site-packages/sklearn/feature_selection/_univariate_selection.py:113: RuntimeWarning: invalid value encountered in divide\n",
      "  f = msb / msw\n",
      "/home/trl293/.local/lib/python3.8/site-packages/sklearn/feature_selection/_univariate_selection.py:112: UserWarning: Features [2699] are constant.\n",
      "  warnings.warn(\"Features %s are constant.\" % constant_features_idx, UserWarning)\n",
      "/home/trl293/.local/lib/python3.8/site-packages/sklearn/feature_selection/_univariate_selection.py:113: RuntimeWarning: invalid value encountered in divide\n",
      "  f = msb / msw\n",
      "/home/trl293/.local/lib/python3.8/site-packages/sklearn/feature_selection/_univariate_selection.py:112: UserWarning: Features [2699] are constant.\n",
      "  warnings.warn(\"Features %s are constant.\" % constant_features_idx, UserWarning)\n",
      "/home/trl293/.local/lib/python3.8/site-packages/sklearn/feature_selection/_univariate_selection.py:113: RuntimeWarning: invalid value encountered in divide\n",
      "  f = msb / msw\n",
      "/home/trl293/.local/lib/python3.8/site-packages/sklearn/feature_selection/_univariate_selection.py:112: UserWarning: Features [2699] are constant.\n",
      "  warnings.warn(\"Features %s are constant.\" % constant_features_idx, UserWarning)\n",
      "/home/trl293/.local/lib/python3.8/site-packages/sklearn/feature_selection/_univariate_selection.py:113: RuntimeWarning: invalid value encountered in divide\n",
      "  f = msb / msw\n",
      "/home/trl293/.local/lib/python3.8/site-packages/sklearn/feature_selection/_univariate_selection.py:112: UserWarning: Features [2699] are constant.\n",
      "  warnings.warn(\"Features %s are constant.\" % constant_features_idx, UserWarning)\n",
      "/home/trl293/.local/lib/python3.8/site-packages/sklearn/feature_selection/_univariate_selection.py:113: RuntimeWarning: invalid value encountered in divide\n",
      "  f = msb / msw\n",
      "/home/trl293/.local/lib/python3.8/site-packages/sklearn/feature_selection/_univariate_selection.py:112: UserWarning: Features [2699] are constant.\n",
      "  warnings.warn(\"Features %s are constant.\" % constant_features_idx, UserWarning)\n",
      "/home/trl293/.local/lib/python3.8/site-packages/sklearn/feature_selection/_univariate_selection.py:113: RuntimeWarning: invalid value encountered in divide\n",
      "  f = msb / msw\n",
      "/home/trl293/.local/lib/python3.8/site-packages/sklearn/feature_selection/_univariate_selection.py:112: UserWarning: Features [2699] are constant.\n",
      "  warnings.warn(\"Features %s are constant.\" % constant_features_idx, UserWarning)\n",
      "/home/trl293/.local/lib/python3.8/site-packages/sklearn/feature_selection/_univariate_selection.py:113: RuntimeWarning: invalid value encountered in divide\n",
      "  f = msb / msw\n",
      "/home/trl293/.local/lib/python3.8/site-packages/sklearn/feature_selection/_univariate_selection.py:112: UserWarning: Features [2699] are constant.\n",
      "  warnings.warn(\"Features %s are constant.\" % constant_features_idx, UserWarning)\n",
      "/home/trl293/.local/lib/python3.8/site-packages/sklearn/feature_selection/_univariate_selection.py:113: RuntimeWarning: invalid value encountered in divide\n",
      "  f = msb / msw\n",
      "/home/trl293/.local/lib/python3.8/site-packages/sklearn/feature_selection/_univariate_selection.py:112: UserWarning: Features [2699] are constant.\n",
      "  warnings.warn(\"Features %s are constant.\" % constant_features_idx, UserWarning)\n",
      "/home/trl293/.local/lib/python3.8/site-packages/sklearn/feature_selection/_univariate_selection.py:113: RuntimeWarning: invalid value encountered in divide\n",
      "  f = msb / msw\n",
      "/home/trl293/.local/lib/python3.8/site-packages/sklearn/feature_selection/_univariate_selection.py:112: UserWarning: Features [2699] are constant.\n",
      "  warnings.warn(\"Features %s are constant.\" % constant_features_idx, UserWarning)\n",
      "/home/trl293/.local/lib/python3.8/site-packages/sklearn/feature_selection/_univariate_selection.py:113: RuntimeWarning: invalid value encountered in divide\n",
      "  f = msb / msw\n",
      "/home/trl293/.local/lib/python3.8/site-packages/sklearn/feature_selection/_univariate_selection.py:112: UserWarning: Features [2699] are constant.\n",
      "  warnings.warn(\"Features %s are constant.\" % constant_features_idx, UserWarning)\n",
      "/home/trl293/.local/lib/python3.8/site-packages/sklearn/feature_selection/_univariate_selection.py:113: RuntimeWarning: invalid value encountered in divide\n",
      "  f = msb / msw\n",
      "/home/trl293/.local/lib/python3.8/site-packages/sklearn/feature_selection/_univariate_selection.py:112: UserWarning: Features [2699] are constant.\n",
      "  warnings.warn(\"Features %s are constant.\" % constant_features_idx, UserWarning)\n",
      "/home/trl293/.local/lib/python3.8/site-packages/sklearn/feature_selection/_univariate_selection.py:113: RuntimeWarning: invalid value encountered in divide\n",
      "  f = msb / msw\n",
      "/home/trl293/.local/lib/python3.8/site-packages/sklearn/feature_selection/_univariate_selection.py:112: UserWarning: Features [2699] are constant.\n",
      "  warnings.warn(\"Features %s are constant.\" % constant_features_idx, UserWarning)\n",
      "/home/trl293/.local/lib/python3.8/site-packages/sklearn/feature_selection/_univariate_selection.py:113: RuntimeWarning: invalid value encountered in divide\n",
      "  f = msb / msw\n",
      "/home/trl293/.local/lib/python3.8/site-packages/sklearn/feature_selection/_univariate_selection.py:112: UserWarning: Features [2699] are constant.\n",
      "  warnings.warn(\"Features %s are constant.\" % constant_features_idx, UserWarning)\n",
      "/home/trl293/.local/lib/python3.8/site-packages/sklearn/feature_selection/_univariate_selection.py:113: RuntimeWarning: invalid value encountered in divide\n",
      "  f = msb / msw\n",
      "/home/trl293/.local/lib/python3.8/site-packages/sklearn/feature_selection/_univariate_selection.py:112: UserWarning: Features [2699] are constant.\n",
      "  warnings.warn(\"Features %s are constant.\" % constant_features_idx, UserWarning)\n",
      "/home/trl293/.local/lib/python3.8/site-packages/sklearn/feature_selection/_univariate_selection.py:113: RuntimeWarning: invalid value encountered in divide\n",
      "  f = msb / msw\n",
      "/home/trl293/.local/lib/python3.8/site-packages/sklearn/feature_selection/_univariate_selection.py:112: UserWarning: Features [2699] are constant.\n",
      "  warnings.warn(\"Features %s are constant.\" % constant_features_idx, UserWarning)\n",
      "/home/trl293/.local/lib/python3.8/site-packages/sklearn/feature_selection/_univariate_selection.py:113: RuntimeWarning: invalid value encountered in divide\n",
      "  f = msb / msw\n",
      "/home/trl293/.local/lib/python3.8/site-packages/sklearn/feature_selection/_univariate_selection.py:112: UserWarning: Features [2699] are constant.\n",
      "  warnings.warn(\"Features %s are constant.\" % constant_features_idx, UserWarning)\n",
      "/home/trl293/.local/lib/python3.8/site-packages/sklearn/feature_selection/_univariate_selection.py:113: RuntimeWarning: invalid value encountered in divide\n",
      "  f = msb / msw\n"
     ]
    }
   ],
   "source": [
    "fig"
   ]
  },
  {
   "cell_type": "code",
   "execution_count": null,
   "id": "5a0ecba2-4ab3-4739-a527-289feb22fb66",
   "metadata": {},
   "outputs": [],
   "source": [
    "with open('chi2LinearSVC_score.pickle', 'wb') as f:\n",
    "    pickle.dump(fig,ax, f)"
   ]
  }
 ],
 "metadata": {
  "kernelspec": {
   "display_name": "Python 3 (ipykernel)",
   "language": "python",
   "name": "python3"
  },
  "language_info": {
   "codemirror_mode": {
    "name": "ipython",
    "version": 3
   },
   "file_extension": ".py",
   "mimetype": "text/x-python",
   "name": "python",
   "nbconvert_exporter": "python",
   "pygments_lexer": "ipython3",
   "version": "3.11.11"
  }
 },
 "nbformat": 4,
 "nbformat_minor": 5
}
